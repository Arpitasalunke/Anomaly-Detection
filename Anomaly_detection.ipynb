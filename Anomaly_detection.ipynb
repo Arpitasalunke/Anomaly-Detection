{
 "cells": [
  {
   "cell_type": "markdown",
   "id": "c26f4dfa",
   "metadata": {},
   "source": [
    "# Unsupervised Anomaly Detection in Cloud Network Traffic"
   ]
  },
  {
   "cell_type": "code",
   "execution_count": 1,
   "id": "VgGnBDcdQKFM",
   "metadata": {
    "colab": {
     "base_uri": "https://localhost:8080/"
    },
    "executionInfo": {
     "elapsed": 2606,
     "status": "ok",
     "timestamp": 1738560792599,
     "user": {
      "displayName": "Arpita Salunke",
      "userId": "17265478825697490155"
     },
     "user_tz": -330
    },
    "id": "VgGnBDcdQKFM",
    "outputId": "b9b565d6-daf2-428d-dce4-14508bd0ae23"
   },
   "outputs": [
    {
     "name": "stderr",
     "output_type": "stream",
     "text": [
      "C:\\Users\\Arpita\\anaconda3\\lib\\site-packages\\pandas\\core\\computation\\expressions.py:21: UserWarning: Pandas requires version '2.8.4' or newer of 'numexpr' (version '2.8.3' currently installed).\n",
      "  from pandas.core.computation.check import NUMEXPR_INSTALLED\n",
      "C:\\Users\\Arpita\\anaconda3\\lib\\site-packages\\pandas\\core\\arrays\\masked.py:60: UserWarning: Pandas requires version '1.3.6' or newer of 'bottleneck' (version '1.3.5' currently installed).\n",
      "  from pandas.core import (\n"
     ]
    },
    {
     "name": "stdout",
     "output_type": "stream",
     "text": [
      "(170665, 22)\n",
      "    timestamp                                              event session_id  \\\n",
      "0  1593481283  {\"data\":\"\",\"encrypted\":false,\"key\":\"\",\"lsh\":\"0...   6CzwqYpV   \n",
      "1  1593481284  {\"data\":\"SFRUUC8xLjEgNDAwIEJhZCBSZXF1ZXN0DQpEY...   ydwTG1Wp   \n",
      "2  1593481284  {\"data\":\"I1NUCg==\",\"encrypted\":false,\"key\":\"\",...   HkYZE1kJ   \n",
      "3  1593481285  {\"data\":\"AAtuAAAAAAEEYmVpbw==\",\"encrypted\":fal...   wHr1ZYOg   \n",
      "4  1593481282  {\"data\":\"\",\"encrypted\":false,\"key\":\"\",\"lsh\":\"0...   XoPUTpQH   \n",
      "\n",
      "   source_port  destination_port        source_ip        sensor_ip  \\\n",
      "0        55662              2082  172.104.144.250  157.245.219.132   \n",
      "1        38746              8443   222.186.19.210  206.189.232.253   \n",
      "2        56562              2082  172.104.144.250  157.245.219.132   \n",
      "3        57408              2082  172.104.144.250  157.245.219.132   \n",
      "4        64839              5900     193.27.228.9    34.105.14.146   \n",
      "\n",
      "    destination_ip meta_type                            event_uuid  ...  \\\n",
      "0  157.245.219.132  response  b293c2bd-a9d8-4288-8932-58ef845e3b18  ...   \n",
      "1  206.189.232.253   persona  a22ad20e-cc63-4c2f-95d5-e62ebf76e883  ...   \n",
      "2  157.245.219.132  response  a412acd4-3b4a-4a5e-ba05-35cc9fbe6d0d  ...   \n",
      "3  157.245.219.132  response  16972fd5-452a-4792-addb-ba2111d14de1  ...   \n",
      "4      10.138.0.62  response  b8ddd71b-b756-4005-8d9c-606fdf87dd17  ...   \n",
      "\n",
      "              project      provider      region protocol app_protocol    3wh  \\\n",
      "0  rorschach-feedback  digitalocean        nyc3      TCP                True   \n",
      "1  rorschach-feedback  digitalocean        nyc1      TCP        HTTPS  False   \n",
      "2  rorschach-feedback  digitalocean        nyc3      TCP                True   \n",
      "3  rorschach-feedback  digitalocean        nyc3      TCP                True   \n",
      "4  rorschach-feedback        google  us-west1-c      TCP                True   \n",
      "\n",
      "  ip_version                                           metadata    vpn  \\\n",
      "0          4  {'category': 'hosting', 'city': 'Frankfurt am ...  False   \n",
      "1          4  {'category': 'hosting', 'city': 'Shanghai', 'd...  False   \n",
      "2          4  {'category': 'hosting', 'city': 'Frankfurt am ...  False   \n",
      "3          4  {'category': 'hosting', 'city': 'Frankfurt am ...  False   \n",
      "4          4  {'category': 'hosting', 'city': 'Saint Petersb...  False   \n",
      "\n",
      "  vpn_service  \n",
      "0         N/A  \n",
      "1         N/A  \n",
      "2         N/A  \n",
      "3         N/A  \n",
      "4         N/A  \n",
      "\n",
      "[5 rows x 22 columns]\n"
     ]
    }
   ],
   "source": [
    "import pandas as pd\n",
    "\n",
    "# Specify the folder containing Parquet files\n",
    "folder_path = 'raw_data'\n",
    "\n",
    "# Read all Parquet files in the folder into a single DataFrame\n",
    "df = pd.read_parquet(folder_path)\n",
    "\n",
    "# Verify the data\n",
    "print(df.shape)\n",
    "print(df.head())"
   ]
  },
  {
   "cell_type": "markdown",
   "id": "2b1df06c-4adb-4643-93dd-1064e801e06e",
   "metadata": {
    "id": "2b1df06c-4adb-4643-93dd-1064e801e06e"
   },
   "source": [
    "# Preprocessing"
   ]
  },
  {
   "cell_type": "markdown",
   "id": "22277d4e-8e14-4c31-a48e-3e9924ad8808",
   "metadata": {
    "id": "22277d4e-8e14-4c31-a48e-3e9924ad8808"
   },
   "source": [
    "checking for missing values"
   ]
  },
  {
   "cell_type": "code",
   "execution_count": 2,
   "id": "1e51d4d9-1489-4dce-bea7-3a2d58c893e8",
   "metadata": {
    "colab": {
     "base_uri": "https://localhost:8080/"
    },
    "executionInfo": {
     "elapsed": 17,
     "status": "ok",
     "timestamp": 1738560792600,
     "user": {
      "displayName": "Arpita Salunke",
      "userId": "17265478825697490155"
     },
     "user_tz": -330
    },
    "id": "1e51d4d9-1489-4dce-bea7-3a2d58c893e8",
    "outputId": "1def2468-74ce-48bc-a4b5-2b51dfec7ca5"
   },
   "outputs": [
    {
     "name": "stdout",
     "output_type": "stream",
     "text": [
      "timestamp           0.0\n",
      "event               0.0\n",
      "session_id          0.0\n",
      "source_port         0.0\n",
      "destination_port    0.0\n",
      "source_ip           0.0\n",
      "sensor_ip           0.0\n",
      "destination_ip      0.0\n",
      "meta_type           0.0\n",
      "event_uuid          0.0\n",
      "sensor_uuid         0.0\n",
      "hostname            0.0\n",
      "project             0.0\n",
      "provider            0.0\n",
      "region              0.0\n",
      "protocol            0.0\n",
      "app_protocol        0.0\n",
      "3wh                 0.0\n",
      "ip_version          0.0\n",
      "metadata            0.0\n",
      "vpn                 0.0\n",
      "vpn_service         0.0\n",
      "dtype: float64\n"
     ]
    }
   ],
   "source": [
    "missing_percent = df.isnull().mean() * 100\n",
    "print(missing_percent)"
   ]
  },
  {
   "cell_type": "code",
   "execution_count": 3,
   "id": "b16f94e2-0fd4-4140-83a1-90ffff861e57",
   "metadata": {
    "colab": {
     "base_uri": "https://localhost:8080/",
     "height": 774
    },
    "executionInfo": {
     "elapsed": 16,
     "status": "ok",
     "timestamp": 1738560792600,
     "user": {
      "displayName": "Arpita Salunke",
      "userId": "17265478825697490155"
     },
     "user_tz": -330
    },
    "id": "b16f94e2-0fd4-4140-83a1-90ffff861e57",
    "outputId": "087845b3-4dcf-4a14-ca2d-db350d288004"
   },
   "outputs": [
    {
     "data": {
      "text/plain": [
       "timestamp            int32\n",
       "event               object\n",
       "session_id          object\n",
       "source_port          int64\n",
       "destination_port     int32\n",
       "source_ip           object\n",
       "sensor_ip           object\n",
       "destination_ip      object\n",
       "meta_type           object\n",
       "event_uuid          object\n",
       "sensor_uuid         object\n",
       "hostname            object\n",
       "project             object\n",
       "provider            object\n",
       "region              object\n",
       "protocol            object\n",
       "app_protocol        object\n",
       "3wh                   bool\n",
       "ip_version           int32\n",
       "metadata            object\n",
       "vpn                   bool\n",
       "vpn_service         object\n",
       "dtype: object"
      ]
     },
     "execution_count": 3,
     "metadata": {},
     "output_type": "execute_result"
    }
   ],
   "source": [
    "df.dtypes"
   ]
  },
  {
   "cell_type": "code",
   "execution_count": 4,
   "id": "a96fa29e-8238-4de2-888e-57b5d19c0075",
   "metadata": {
    "id": "a96fa29e-8238-4de2-888e-57b5d19c0075"
   },
   "outputs": [],
   "source": [
    "df.rename(columns={'region':'org_region'},inplace=True)"
   ]
  },
  {
   "cell_type": "code",
   "execution_count": 5,
   "id": "9fcc51fe-0445-4449-8d1e-691e91829acb",
   "metadata": {
    "colab": {
     "base_uri": "https://localhost:8080/"
    },
    "executionInfo": {
     "elapsed": 15,
     "status": "ok",
     "timestamp": 1738560792600,
     "user": {
      "displayName": "Arpita Salunke",
      "userId": "17265478825697490155"
     },
     "user_tz": -330
    },
    "id": "9fcc51fe-0445-4449-8d1e-691e91829acb",
    "outputId": "d994b795-97f7-4ba5-d993-a6275114fb4d"
   },
   "outputs": [
    {
     "data": {
      "text/plain": [
       "Index(['timestamp', 'event', 'session_id', 'source_port', 'destination_port',\n",
       "       'source_ip', 'sensor_ip', 'destination_ip', 'meta_type', 'event_uuid',\n",
       "       'sensor_uuid', 'hostname', 'project', 'provider', 'org_region',\n",
       "       'protocol', 'app_protocol', '3wh', 'ip_version', 'metadata', 'vpn',\n",
       "       'vpn_service'],\n",
       "      dtype='object')"
      ]
     },
     "execution_count": 5,
     "metadata": {},
     "output_type": "execute_result"
    }
   ],
   "source": [
    "df.columns"
   ]
  },
  {
   "cell_type": "code",
   "execution_count": 6,
   "id": "6acf7b62-389b-4d11-ba53-b3775f610897",
   "metadata": {
    "colab": {
     "base_uri": "https://localhost:8080/",
     "height": 241
    },
    "executionInfo": {
     "elapsed": 13,
     "status": "ok",
     "timestamp": 1738560792600,
     "user": {
      "displayName": "Arpita Salunke",
      "userId": "17265478825697490155"
     },
     "user_tz": -330
    },
    "id": "6acf7b62-389b-4d11-ba53-b3775f610897",
    "outputId": "65c3704b-301a-4a05-9977-bd7c79963e60"
   },
   "outputs": [
    {
     "data": {
      "text/plain": [
       "0    {'category': 'hosting', 'city': 'Frankfurt am ...\n",
       "1    {'category': 'hosting', 'city': 'Shanghai', 'd...\n",
       "2    {'category': 'hosting', 'city': 'Frankfurt am ...\n",
       "3    {'category': 'hosting', 'city': 'Frankfurt am ...\n",
       "4    {'category': 'hosting', 'city': 'Saint Petersb...\n",
       "Name: metadata, dtype: object"
      ]
     },
     "execution_count": 6,
     "metadata": {},
     "output_type": "execute_result"
    }
   ],
   "source": [
    "df['metadata'].head()"
   ]
  },
  {
   "cell_type": "markdown",
   "id": "de8e9f53",
   "metadata": {},
   "source": [
    "# Handling Metadata Column(Contains Python Dictionary)"
   ]
  },
  {
   "cell_type": "code",
   "execution_count": 7,
   "id": "a13a606e-d408-424b-a4d6-fa1ae8d7fbfc",
   "metadata": {
    "colab": {
     "base_uri": "https://localhost:8080/",
     "height": 347
    },
    "executionInfo": {
     "elapsed": 24044,
     "status": "ok",
     "timestamp": 1738560816632,
     "user": {
      "displayName": "Arpita Salunke",
      "userId": "17265478825697490155"
     },
     "user_tz": -330
    },
    "id": "a13a606e-d408-424b-a4d6-fa1ae8d7fbfc",
    "outputId": "ebff44fc-07e3-4ee6-ec48-ad60f4ac4b4f"
   },
   "outputs": [
    {
     "data": {
      "text/html": [
       "<div>\n",
       "<style scoped>\n",
       "    .dataframe tbody tr th:only-of-type {\n",
       "        vertical-align: middle;\n",
       "    }\n",
       "\n",
       "    .dataframe tbody tr th {\n",
       "        vertical-align: top;\n",
       "    }\n",
       "\n",
       "    .dataframe thead th {\n",
       "        text-align: right;\n",
       "    }\n",
       "</style>\n",
       "<table border=\"1\" class=\"dataframe\">\n",
       "  <thead>\n",
       "    <tr style=\"text-align: right;\">\n",
       "      <th></th>\n",
       "      <th>category</th>\n",
       "      <th>city</th>\n",
       "      <th>domain</th>\n",
       "      <th>mobile</th>\n",
       "      <th>country</th>\n",
       "      <th>region</th>\n",
       "      <th>long</th>\n",
       "      <th>tor</th>\n",
       "      <th>rdns_validated</th>\n",
       "      <th>country_code</th>\n",
       "      <th>lat</th>\n",
       "      <th>org</th>\n",
       "      <th>postal</th>\n",
       "      <th>type</th>\n",
       "      <th>asn</th>\n",
       "      <th>datacenter</th>\n",
       "      <th>rdns_parent</th>\n",
       "      <th>rdns</th>\n",
       "      <th>url</th>\n",
       "      <th>phone</th>\n",
       "    </tr>\n",
       "  </thead>\n",
       "  <tbody>\n",
       "    <tr>\n",
       "      <th>0</th>\n",
       "      <td>hosting</td>\n",
       "      <td>Frankfurt am Main</td>\n",
       "      <td>linode.com</td>\n",
       "      <td>False</td>\n",
       "      <td>Germany</td>\n",
       "      <td>Hesse</td>\n",
       "      <td>8.6842</td>\n",
       "      <td>False</td>\n",
       "      <td>False</td>\n",
       "      <td>DE</td>\n",
       "      <td>50.1155</td>\n",
       "      <td>Linode, LLC</td>\n",
       "      <td>60311.0</td>\n",
       "      <td>hosting</td>\n",
       "      <td>AS63949</td>\n",
       "      <td>None</td>\n",
       "      <td>binaryedge.ninja</td>\n",
       "      <td>172.104.144.250.li.binaryedge.ninja</td>\n",
       "      <td>None</td>\n",
       "      <td>None</td>\n",
       "    </tr>\n",
       "    <tr>\n",
       "      <th>1</th>\n",
       "      <td>hosting</td>\n",
       "      <td>Shanghai</td>\n",
       "      <td>cn.net</td>\n",
       "      <td>False</td>\n",
       "      <td>China</td>\n",
       "      <td>Shanghai</td>\n",
       "      <td>121.4581</td>\n",
       "      <td>False</td>\n",
       "      <td>False</td>\n",
       "      <td>CN</td>\n",
       "      <td>31.2222</td>\n",
       "      <td>AS Number for CHINANET jiangsu province backbone</td>\n",
       "      <td>NaN</td>\n",
       "      <td>hosting</td>\n",
       "      <td>AS23650</td>\n",
       "      <td>None</td>\n",
       "      <td>None</td>\n",
       "      <td>None</td>\n",
       "      <td>None</td>\n",
       "      <td>None</td>\n",
       "    </tr>\n",
       "    <tr>\n",
       "      <th>2</th>\n",
       "      <td>hosting</td>\n",
       "      <td>Frankfurt am Main</td>\n",
       "      <td>linode.com</td>\n",
       "      <td>False</td>\n",
       "      <td>Germany</td>\n",
       "      <td>Hesse</td>\n",
       "      <td>8.6842</td>\n",
       "      <td>False</td>\n",
       "      <td>False</td>\n",
       "      <td>DE</td>\n",
       "      <td>50.1155</td>\n",
       "      <td>Linode, LLC</td>\n",
       "      <td>60311.0</td>\n",
       "      <td>hosting</td>\n",
       "      <td>AS63949</td>\n",
       "      <td>None</td>\n",
       "      <td>binaryedge.ninja</td>\n",
       "      <td>172.104.144.250.li.binaryedge.ninja</td>\n",
       "      <td>None</td>\n",
       "      <td>None</td>\n",
       "    </tr>\n",
       "    <tr>\n",
       "      <th>3</th>\n",
       "      <td>hosting</td>\n",
       "      <td>Frankfurt am Main</td>\n",
       "      <td>linode.com</td>\n",
       "      <td>False</td>\n",
       "      <td>Germany</td>\n",
       "      <td>Hesse</td>\n",
       "      <td>8.6842</td>\n",
       "      <td>False</td>\n",
       "      <td>False</td>\n",
       "      <td>DE</td>\n",
       "      <td>50.1155</td>\n",
       "      <td>Linode, LLC</td>\n",
       "      <td>60311.0</td>\n",
       "      <td>hosting</td>\n",
       "      <td>AS63949</td>\n",
       "      <td>None</td>\n",
       "      <td>binaryedge.ninja</td>\n",
       "      <td>172.104.144.250.li.binaryedge.ninja</td>\n",
       "      <td>None</td>\n",
       "      <td>None</td>\n",
       "    </tr>\n",
       "    <tr>\n",
       "      <th>4</th>\n",
       "      <td>hosting</td>\n",
       "      <td>Saint Petersburg</td>\n",
       "      <td>hostway.ru</td>\n",
       "      <td>False</td>\n",
       "      <td>Russia</td>\n",
       "      <td>St.-Petersburg</td>\n",
       "      <td>30.3141</td>\n",
       "      <td>False</td>\n",
       "      <td>False</td>\n",
       "      <td>RU</td>\n",
       "      <td>59.9386</td>\n",
       "      <td>OOO Network of data-centers Selectel</td>\n",
       "      <td>190000.0</td>\n",
       "      <td>hosting</td>\n",
       "      <td>AS49505</td>\n",
       "      <td>None</td>\n",
       "      <td>None</td>\n",
       "      <td>None</td>\n",
       "      <td>None</td>\n",
       "      <td>None</td>\n",
       "    </tr>\n",
       "  </tbody>\n",
       "</table>\n",
       "</div>"
      ],
      "text/plain": [
       "  category               city      domain  mobile  country          region  \\\n",
       "0  hosting  Frankfurt am Main  linode.com   False  Germany           Hesse   \n",
       "1  hosting           Shanghai      cn.net   False    China        Shanghai   \n",
       "2  hosting  Frankfurt am Main  linode.com   False  Germany           Hesse   \n",
       "3  hosting  Frankfurt am Main  linode.com   False  Germany           Hesse   \n",
       "4  hosting   Saint Petersburg  hostway.ru   False   Russia  St.-Petersburg   \n",
       "\n",
       "       long    tor  rdns_validated country_code      lat  \\\n",
       "0    8.6842  False           False           DE  50.1155   \n",
       "1  121.4581  False           False           CN  31.2222   \n",
       "2    8.6842  False           False           DE  50.1155   \n",
       "3    8.6842  False           False           DE  50.1155   \n",
       "4   30.3141  False           False           RU  59.9386   \n",
       "\n",
       "                                                org    postal     type  \\\n",
       "0                                       Linode, LLC   60311.0  hosting   \n",
       "1  AS Number for CHINANET jiangsu province backbone       NaN  hosting   \n",
       "2                                       Linode, LLC   60311.0  hosting   \n",
       "3                                       Linode, LLC   60311.0  hosting   \n",
       "4              OOO Network of data-centers Selectel  190000.0  hosting   \n",
       "\n",
       "       asn datacenter       rdns_parent                                 rdns  \\\n",
       "0  AS63949       None  binaryedge.ninja  172.104.144.250.li.binaryedge.ninja   \n",
       "1  AS23650       None              None                                 None   \n",
       "2  AS63949       None  binaryedge.ninja  172.104.144.250.li.binaryedge.ninja   \n",
       "3  AS63949       None  binaryedge.ninja  172.104.144.250.li.binaryedge.ninja   \n",
       "4  AS49505       None              None                                 None   \n",
       "\n",
       "    url phone  \n",
       "0  None  None  \n",
       "1  None  None  \n",
       "2  None  None  \n",
       "3  None  None  \n",
       "4  None  None  "
      ]
     },
     "execution_count": 7,
     "metadata": {},
     "output_type": "execute_result"
    }
   ],
   "source": [
    "# Expand the 'metadata' column into separate columns\n",
    "df_metadata = df['metadata'].apply(pd.Series)\n",
    "df_metadata.head()\n"
   ]
  },
  {
   "cell_type": "code",
   "execution_count": 8,
   "id": "84806bc7-de92-4a03-b101-5fd16fec1e02",
   "metadata": {
    "colab": {
     "base_uri": "https://localhost:8080/",
     "height": 498
    },
    "executionInfo": {
     "elapsed": 11,
     "status": "ok",
     "timestamp": 1738560816632,
     "user": {
      "displayName": "Arpita Salunke",
      "userId": "17265478825697490155"
     },
     "user_tz": -330
    },
    "id": "84806bc7-de92-4a03-b101-5fd16fec1e02",
    "outputId": "568131ed-3b6f-488b-ab9e-49aecfe96e58"
   },
   "outputs": [
    {
     "data": {
      "text/html": [
       "<div>\n",
       "<style scoped>\n",
       "    .dataframe tbody tr th:only-of-type {\n",
       "        vertical-align: middle;\n",
       "    }\n",
       "\n",
       "    .dataframe tbody tr th {\n",
       "        vertical-align: top;\n",
       "    }\n",
       "\n",
       "    .dataframe thead th {\n",
       "        text-align: right;\n",
       "    }\n",
       "</style>\n",
       "<table border=\"1\" class=\"dataframe\">\n",
       "  <thead>\n",
       "    <tr style=\"text-align: right;\">\n",
       "      <th></th>\n",
       "      <th>timestamp</th>\n",
       "      <th>event</th>\n",
       "      <th>session_id</th>\n",
       "      <th>source_port</th>\n",
       "      <th>destination_port</th>\n",
       "      <th>source_ip</th>\n",
       "      <th>sensor_ip</th>\n",
       "      <th>destination_ip</th>\n",
       "      <th>meta_type</th>\n",
       "      <th>event_uuid</th>\n",
       "      <th>...</th>\n",
       "      <th>lat</th>\n",
       "      <th>org</th>\n",
       "      <th>postal</th>\n",
       "      <th>type</th>\n",
       "      <th>asn</th>\n",
       "      <th>datacenter</th>\n",
       "      <th>rdns_parent</th>\n",
       "      <th>rdns</th>\n",
       "      <th>url</th>\n",
       "      <th>phone</th>\n",
       "    </tr>\n",
       "  </thead>\n",
       "  <tbody>\n",
       "    <tr>\n",
       "      <th>0</th>\n",
       "      <td>1593481283</td>\n",
       "      <td>{\"data\":\"\",\"encrypted\":false,\"key\":\"\",\"lsh\":\"0...</td>\n",
       "      <td>6CzwqYpV</td>\n",
       "      <td>55662</td>\n",
       "      <td>2082</td>\n",
       "      <td>172.104.144.250</td>\n",
       "      <td>157.245.219.132</td>\n",
       "      <td>157.245.219.132</td>\n",
       "      <td>response</td>\n",
       "      <td>b293c2bd-a9d8-4288-8932-58ef845e3b18</td>\n",
       "      <td>...</td>\n",
       "      <td>50.1155</td>\n",
       "      <td>Linode, LLC</td>\n",
       "      <td>60311.0</td>\n",
       "      <td>hosting</td>\n",
       "      <td>AS63949</td>\n",
       "      <td>None</td>\n",
       "      <td>binaryedge.ninja</td>\n",
       "      <td>172.104.144.250.li.binaryedge.ninja</td>\n",
       "      <td>None</td>\n",
       "      <td>None</td>\n",
       "    </tr>\n",
       "    <tr>\n",
       "      <th>1</th>\n",
       "      <td>1593481284</td>\n",
       "      <td>{\"data\":\"SFRUUC8xLjEgNDAwIEJhZCBSZXF1ZXN0DQpEY...</td>\n",
       "      <td>ydwTG1Wp</td>\n",
       "      <td>38746</td>\n",
       "      <td>8443</td>\n",
       "      <td>222.186.19.210</td>\n",
       "      <td>206.189.232.253</td>\n",
       "      <td>206.189.232.253</td>\n",
       "      <td>persona</td>\n",
       "      <td>a22ad20e-cc63-4c2f-95d5-e62ebf76e883</td>\n",
       "      <td>...</td>\n",
       "      <td>31.2222</td>\n",
       "      <td>AS Number for CHINANET jiangsu province backbone</td>\n",
       "      <td>NaN</td>\n",
       "      <td>hosting</td>\n",
       "      <td>AS23650</td>\n",
       "      <td>None</td>\n",
       "      <td>None</td>\n",
       "      <td>None</td>\n",
       "      <td>None</td>\n",
       "      <td>None</td>\n",
       "    </tr>\n",
       "    <tr>\n",
       "      <th>2</th>\n",
       "      <td>1593481284</td>\n",
       "      <td>{\"data\":\"I1NUCg==\",\"encrypted\":false,\"key\":\"\",...</td>\n",
       "      <td>HkYZE1kJ</td>\n",
       "      <td>56562</td>\n",
       "      <td>2082</td>\n",
       "      <td>172.104.144.250</td>\n",
       "      <td>157.245.219.132</td>\n",
       "      <td>157.245.219.132</td>\n",
       "      <td>response</td>\n",
       "      <td>a412acd4-3b4a-4a5e-ba05-35cc9fbe6d0d</td>\n",
       "      <td>...</td>\n",
       "      <td>50.1155</td>\n",
       "      <td>Linode, LLC</td>\n",
       "      <td>60311.0</td>\n",
       "      <td>hosting</td>\n",
       "      <td>AS63949</td>\n",
       "      <td>None</td>\n",
       "      <td>binaryedge.ninja</td>\n",
       "      <td>172.104.144.250.li.binaryedge.ninja</td>\n",
       "      <td>None</td>\n",
       "      <td>None</td>\n",
       "    </tr>\n",
       "    <tr>\n",
       "      <th>3</th>\n",
       "      <td>1593481285</td>\n",
       "      <td>{\"data\":\"AAtuAAAAAAEEYmVpbw==\",\"encrypted\":fal...</td>\n",
       "      <td>wHr1ZYOg</td>\n",
       "      <td>57408</td>\n",
       "      <td>2082</td>\n",
       "      <td>172.104.144.250</td>\n",
       "      <td>157.245.219.132</td>\n",
       "      <td>157.245.219.132</td>\n",
       "      <td>response</td>\n",
       "      <td>16972fd5-452a-4792-addb-ba2111d14de1</td>\n",
       "      <td>...</td>\n",
       "      <td>50.1155</td>\n",
       "      <td>Linode, LLC</td>\n",
       "      <td>60311.0</td>\n",
       "      <td>hosting</td>\n",
       "      <td>AS63949</td>\n",
       "      <td>None</td>\n",
       "      <td>binaryedge.ninja</td>\n",
       "      <td>172.104.144.250.li.binaryedge.ninja</td>\n",
       "      <td>None</td>\n",
       "      <td>None</td>\n",
       "    </tr>\n",
       "    <tr>\n",
       "      <th>4</th>\n",
       "      <td>1593481282</td>\n",
       "      <td>{\"data\":\"\",\"encrypted\":false,\"key\":\"\",\"lsh\":\"0...</td>\n",
       "      <td>XoPUTpQH</td>\n",
       "      <td>64839</td>\n",
       "      <td>5900</td>\n",
       "      <td>193.27.228.9</td>\n",
       "      <td>34.105.14.146</td>\n",
       "      <td>10.138.0.62</td>\n",
       "      <td>response</td>\n",
       "      <td>b8ddd71b-b756-4005-8d9c-606fdf87dd17</td>\n",
       "      <td>...</td>\n",
       "      <td>59.9386</td>\n",
       "      <td>OOO Network of data-centers Selectel</td>\n",
       "      <td>190000.0</td>\n",
       "      <td>hosting</td>\n",
       "      <td>AS49505</td>\n",
       "      <td>None</td>\n",
       "      <td>None</td>\n",
       "      <td>None</td>\n",
       "      <td>None</td>\n",
       "      <td>None</td>\n",
       "    </tr>\n",
       "  </tbody>\n",
       "</table>\n",
       "<p>5 rows × 41 columns</p>\n",
       "</div>"
      ],
      "text/plain": [
       "    timestamp                                              event session_id  \\\n",
       "0  1593481283  {\"data\":\"\",\"encrypted\":false,\"key\":\"\",\"lsh\":\"0...   6CzwqYpV   \n",
       "1  1593481284  {\"data\":\"SFRUUC8xLjEgNDAwIEJhZCBSZXF1ZXN0DQpEY...   ydwTG1Wp   \n",
       "2  1593481284  {\"data\":\"I1NUCg==\",\"encrypted\":false,\"key\":\"\",...   HkYZE1kJ   \n",
       "3  1593481285  {\"data\":\"AAtuAAAAAAEEYmVpbw==\",\"encrypted\":fal...   wHr1ZYOg   \n",
       "4  1593481282  {\"data\":\"\",\"encrypted\":false,\"key\":\"\",\"lsh\":\"0...   XoPUTpQH   \n",
       "\n",
       "   source_port  destination_port        source_ip        sensor_ip  \\\n",
       "0        55662              2082  172.104.144.250  157.245.219.132   \n",
       "1        38746              8443   222.186.19.210  206.189.232.253   \n",
       "2        56562              2082  172.104.144.250  157.245.219.132   \n",
       "3        57408              2082  172.104.144.250  157.245.219.132   \n",
       "4        64839              5900     193.27.228.9    34.105.14.146   \n",
       "\n",
       "    destination_ip meta_type                            event_uuid  ...  \\\n",
       "0  157.245.219.132  response  b293c2bd-a9d8-4288-8932-58ef845e3b18  ...   \n",
       "1  206.189.232.253   persona  a22ad20e-cc63-4c2f-95d5-e62ebf76e883  ...   \n",
       "2  157.245.219.132  response  a412acd4-3b4a-4a5e-ba05-35cc9fbe6d0d  ...   \n",
       "3  157.245.219.132  response  16972fd5-452a-4792-addb-ba2111d14de1  ...   \n",
       "4      10.138.0.62  response  b8ddd71b-b756-4005-8d9c-606fdf87dd17  ...   \n",
       "\n",
       "       lat                                               org    postal  \\\n",
       "0  50.1155                                       Linode, LLC   60311.0   \n",
       "1  31.2222  AS Number for CHINANET jiangsu province backbone       NaN   \n",
       "2  50.1155                                       Linode, LLC   60311.0   \n",
       "3  50.1155                                       Linode, LLC   60311.0   \n",
       "4  59.9386              OOO Network of data-centers Selectel  190000.0   \n",
       "\n",
       "      type      asn datacenter       rdns_parent  \\\n",
       "0  hosting  AS63949       None  binaryedge.ninja   \n",
       "1  hosting  AS23650       None              None   \n",
       "2  hosting  AS63949       None  binaryedge.ninja   \n",
       "3  hosting  AS63949       None  binaryedge.ninja   \n",
       "4  hosting  AS49505       None              None   \n",
       "\n",
       "                                  rdns   url  phone  \n",
       "0  172.104.144.250.li.binaryedge.ninja  None   None  \n",
       "1                                 None  None   None  \n",
       "2  172.104.144.250.li.binaryedge.ninja  None   None  \n",
       "3  172.104.144.250.li.binaryedge.ninja  None   None  \n",
       "4                                 None  None   None  \n",
       "\n",
       "[5 rows x 41 columns]"
      ]
     },
     "execution_count": 8,
     "metadata": {},
     "output_type": "execute_result"
    }
   ],
   "source": [
    "# Concatenate with the original DataFrame\n",
    "df = pd.concat([df.drop(columns='metadata'), df_metadata], axis=1)\n",
    "\n",
    "df.head()"
   ]
  },
  {
   "cell_type": "code",
   "execution_count": 9,
   "id": "a0961e37-5a2a-4205-bd3b-d992ae40fe10",
   "metadata": {
    "colab": {
     "base_uri": "https://localhost:8080/"
    },
    "executionInfo": {
     "elapsed": 10,
     "status": "ok",
     "timestamp": 1738560816632,
     "user": {
      "displayName": "Arpita Salunke",
      "userId": "17265478825697490155"
     },
     "user_tz": -330
    },
    "id": "a0961e37-5a2a-4205-bd3b-d992ae40fe10",
    "outputId": "40933c29-ade5-4478-fba7-994d2a19f89f"
   },
   "outputs": [
    {
     "data": {
      "text/plain": [
       "(170665, 41)"
      ]
     },
     "execution_count": 9,
     "metadata": {},
     "output_type": "execute_result"
    }
   ],
   "source": [
    "df.shape"
   ]
  },
  {
   "cell_type": "markdown",
   "id": "f35d3c90",
   "metadata": {},
   "source": [
    "# Handling Event Column(Contains JSON Dictionary)"
   ]
  },
  {
   "cell_type": "code",
   "execution_count": 10,
   "id": "7cdba755-314f-4469-89a6-ea9d83e66be7",
   "metadata": {
    "colab": {
     "base_uri": "https://localhost:8080/",
     "height": 226
    },
    "executionInfo": {
     "elapsed": 1511,
     "status": "ok",
     "timestamp": 1738560818134,
     "user": {
      "displayName": "Arpita Salunke",
      "userId": "17265478825697490155"
     },
     "user_tz": -330
    },
    "id": "7cdba755-314f-4469-89a6-ea9d83e66be7",
    "outputId": "3b9bb853-939f-4591-bb64-30fc7f78cd18"
   },
   "outputs": [
    {
     "data": {
      "text/html": [
       "<div>\n",
       "<style scoped>\n",
       "    .dataframe tbody tr th:only-of-type {\n",
       "        vertical-align: middle;\n",
       "    }\n",
       "\n",
       "    .dataframe tbody tr th {\n",
       "        vertical-align: top;\n",
       "    }\n",
       "\n",
       "    .dataframe thead th {\n",
       "        text-align: right;\n",
       "    }\n",
       "</style>\n",
       "<table border=\"1\" class=\"dataframe\">\n",
       "  <thead>\n",
       "    <tr style=\"text-align: right;\">\n",
       "      <th></th>\n",
       "      <th>data</th>\n",
       "      <th>encrypted</th>\n",
       "      <th>key</th>\n",
       "      <th>lsh</th>\n",
       "      <th>rtt</th>\n",
       "      <th>size</th>\n",
       "      <th>timeout</th>\n",
       "      <th>xxh</th>\n",
       "    </tr>\n",
       "  </thead>\n",
       "  <tbody>\n",
       "    <tr>\n",
       "      <th>0</th>\n",
       "      <td></td>\n",
       "      <td>False</td>\n",
       "      <td></td>\n",
       "      <td>07d0000000000000c00000300000000000000000000000...</td>\n",
       "      <td>0</td>\n",
       "      <td>0</td>\n",
       "      <td>False</td>\n",
       "      <td>ef46db3751d8e999</td>\n",
       "    </tr>\n",
       "    <tr>\n",
       "      <th>1</th>\n",
       "      <td>SFRUUC8xLjEgNDAwIEJhZCBSZXF1ZXN0DQpEYXRlOiBNb2...</td>\n",
       "      <td>False</td>\n",
       "      <td></td>\n",
       "      <td>48f0e1fb92833199852306a01ec1fed6337006e5f65a85...</td>\n",
       "      <td>0</td>\n",
       "      <td>95</td>\n",
       "      <td>False</td>\n",
       "      <td>283f8d85935ef0b2</td>\n",
       "    </tr>\n",
       "    <tr>\n",
       "      <th>2</th>\n",
       "      <td>I1NUCg==</td>\n",
       "      <td>False</td>\n",
       "      <td></td>\n",
       "      <td>35d0000000000000ccc300300f000000c00000003c0c00...</td>\n",
       "      <td>0</td>\n",
       "      <td>4</td>\n",
       "      <td>False</td>\n",
       "      <td>899236b5999a8085</td>\n",
       "    </tr>\n",
       "    <tr>\n",
       "      <th>3</th>\n",
       "      <td>AAtuAAAAAAEEYmVpbw==</td>\n",
       "      <td>False</td>\n",
       "      <td></td>\n",
       "      <td>20d000c80208a000c20802b380000000a080888000a000...</td>\n",
       "      <td>0</td>\n",
       "      <td>13</td>\n",
       "      <td>False</td>\n",
       "      <td>40fb20adfc73e903</td>\n",
       "    </tr>\n",
       "    <tr>\n",
       "      <th>4</th>\n",
       "      <td></td>\n",
       "      <td>False</td>\n",
       "      <td></td>\n",
       "      <td>07d0000000000000c00000300000000000000000000000...</td>\n",
       "      <td>0</td>\n",
       "      <td>0</td>\n",
       "      <td>False</td>\n",
       "      <td>ef46db3751d8e999</td>\n",
       "    </tr>\n",
       "  </tbody>\n",
       "</table>\n",
       "</div>"
      ],
      "text/plain": [
       "                                                data  encrypted key  \\\n",
       "0                                                         False       \n",
       "1  SFRUUC8xLjEgNDAwIEJhZCBSZXF1ZXN0DQpEYXRlOiBNb2...      False       \n",
       "2                                           I1NUCg==      False       \n",
       "3                               AAtuAAAAAAEEYmVpbw==      False       \n",
       "4                                                         False       \n",
       "\n",
       "                                                 lsh  rtt  size  timeout  \\\n",
       "0  07d0000000000000c00000300000000000000000000000...    0     0    False   \n",
       "1  48f0e1fb92833199852306a01ec1fed6337006e5f65a85...    0    95    False   \n",
       "2  35d0000000000000ccc300300f000000c00000003c0c00...    0     4    False   \n",
       "3  20d000c80208a000c20802b380000000a080888000a000...    0    13    False   \n",
       "4  07d0000000000000c00000300000000000000000000000...    0     0    False   \n",
       "\n",
       "                xxh  \n",
       "0  ef46db3751d8e999  \n",
       "1  283f8d85935ef0b2  \n",
       "2  899236b5999a8085  \n",
       "3  40fb20adfc73e903  \n",
       "4  ef46db3751d8e999  "
      ]
     },
     "execution_count": 10,
     "metadata": {},
     "output_type": "execute_result"
    }
   ],
   "source": [
    "# Convert JSON strings to dictionaries\n",
    "import json\n",
    "df['event'] = df['event'].apply(json.loads)\n",
    "\n",
    "# Normalize the 'event' column\n",
    "event_df = pd.json_normalize(df['event'])\n",
    "event_df.head()\n"
   ]
  },
  {
   "cell_type": "code",
   "execution_count": 11,
   "id": "51220b72-c29d-44b8-b72d-6183a445a55e",
   "metadata": {
    "colab": {
     "base_uri": "https://localhost:8080/",
     "height": 515
    },
    "executionInfo": {
     "elapsed": 14,
     "status": "ok",
     "timestamp": 1738560818134,
     "user": {
      "displayName": "Arpita Salunke",
      "userId": "17265478825697490155"
     },
     "user_tz": -330
    },
    "id": "51220b72-c29d-44b8-b72d-6183a445a55e",
    "outputId": "370bc66f-4b93-4078-9f0c-7e53621cd52c"
   },
   "outputs": [
    {
     "data": {
      "text/html": [
       "<div>\n",
       "<style scoped>\n",
       "    .dataframe tbody tr th:only-of-type {\n",
       "        vertical-align: middle;\n",
       "    }\n",
       "\n",
       "    .dataframe tbody tr th {\n",
       "        vertical-align: top;\n",
       "    }\n",
       "\n",
       "    .dataframe thead th {\n",
       "        text-align: right;\n",
       "    }\n",
       "</style>\n",
       "<table border=\"1\" class=\"dataframe\">\n",
       "  <thead>\n",
       "    <tr style=\"text-align: right;\">\n",
       "      <th></th>\n",
       "      <th>timestamp</th>\n",
       "      <th>session_id</th>\n",
       "      <th>source_port</th>\n",
       "      <th>destination_port</th>\n",
       "      <th>source_ip</th>\n",
       "      <th>sensor_ip</th>\n",
       "      <th>destination_ip</th>\n",
       "      <th>meta_type</th>\n",
       "      <th>event_uuid</th>\n",
       "      <th>sensor_uuid</th>\n",
       "      <th>...</th>\n",
       "      <th>url</th>\n",
       "      <th>phone</th>\n",
       "      <th>data</th>\n",
       "      <th>encrypted</th>\n",
       "      <th>key</th>\n",
       "      <th>lsh</th>\n",
       "      <th>rtt</th>\n",
       "      <th>size</th>\n",
       "      <th>timeout</th>\n",
       "      <th>xxh</th>\n",
       "    </tr>\n",
       "  </thead>\n",
       "  <tbody>\n",
       "    <tr>\n",
       "      <th>0</th>\n",
       "      <td>1593481283</td>\n",
       "      <td>6CzwqYpV</td>\n",
       "      <td>55662</td>\n",
       "      <td>2082</td>\n",
       "      <td>172.104.144.250</td>\n",
       "      <td>157.245.219.132</td>\n",
       "      <td>157.245.219.132</td>\n",
       "      <td>response</td>\n",
       "      <td>b293c2bd-a9d8-4288-8932-58ef845e3b18</td>\n",
       "      <td>12368c8a-ba55-744d-3edf-0b8826aaa4e0</td>\n",
       "      <td>...</td>\n",
       "      <td>None</td>\n",
       "      <td>None</td>\n",
       "      <td></td>\n",
       "      <td>False</td>\n",
       "      <td></td>\n",
       "      <td>07d0000000000000c00000300000000000000000000000...</td>\n",
       "      <td>0</td>\n",
       "      <td>0</td>\n",
       "      <td>False</td>\n",
       "      <td>ef46db3751d8e999</td>\n",
       "    </tr>\n",
       "    <tr>\n",
       "      <th>1</th>\n",
       "      <td>1593481284</td>\n",
       "      <td>ydwTG1Wp</td>\n",
       "      <td>38746</td>\n",
       "      <td>8443</td>\n",
       "      <td>222.186.19.210</td>\n",
       "      <td>206.189.232.253</td>\n",
       "      <td>206.189.232.253</td>\n",
       "      <td>persona</td>\n",
       "      <td>a22ad20e-cc63-4c2f-95d5-e62ebf76e883</td>\n",
       "      <td>2353e17b-fde5-aa6e-e945-90558a5c741e</td>\n",
       "      <td>...</td>\n",
       "      <td>None</td>\n",
       "      <td>None</td>\n",
       "      <td>SFRUUC8xLjEgNDAwIEJhZCBSZXF1ZXN0DQpEYXRlOiBNb2...</td>\n",
       "      <td>False</td>\n",
       "      <td></td>\n",
       "      <td>48f0e1fb92833199852306a01ec1fed6337006e5f65a85...</td>\n",
       "      <td>0</td>\n",
       "      <td>95</td>\n",
       "      <td>False</td>\n",
       "      <td>283f8d85935ef0b2</td>\n",
       "    </tr>\n",
       "    <tr>\n",
       "      <th>2</th>\n",
       "      <td>1593481284</td>\n",
       "      <td>HkYZE1kJ</td>\n",
       "      <td>56562</td>\n",
       "      <td>2082</td>\n",
       "      <td>172.104.144.250</td>\n",
       "      <td>157.245.219.132</td>\n",
       "      <td>157.245.219.132</td>\n",
       "      <td>response</td>\n",
       "      <td>a412acd4-3b4a-4a5e-ba05-35cc9fbe6d0d</td>\n",
       "      <td>12368c8a-ba55-744d-3edf-0b8826aaa4e0</td>\n",
       "      <td>...</td>\n",
       "      <td>None</td>\n",
       "      <td>None</td>\n",
       "      <td>I1NUCg==</td>\n",
       "      <td>False</td>\n",
       "      <td></td>\n",
       "      <td>35d0000000000000ccc300300f000000c00000003c0c00...</td>\n",
       "      <td>0</td>\n",
       "      <td>4</td>\n",
       "      <td>False</td>\n",
       "      <td>899236b5999a8085</td>\n",
       "    </tr>\n",
       "    <tr>\n",
       "      <th>3</th>\n",
       "      <td>1593481285</td>\n",
       "      <td>wHr1ZYOg</td>\n",
       "      <td>57408</td>\n",
       "      <td>2082</td>\n",
       "      <td>172.104.144.250</td>\n",
       "      <td>157.245.219.132</td>\n",
       "      <td>157.245.219.132</td>\n",
       "      <td>response</td>\n",
       "      <td>16972fd5-452a-4792-addb-ba2111d14de1</td>\n",
       "      <td>12368c8a-ba55-744d-3edf-0b8826aaa4e0</td>\n",
       "      <td>...</td>\n",
       "      <td>None</td>\n",
       "      <td>None</td>\n",
       "      <td>AAtuAAAAAAEEYmVpbw==</td>\n",
       "      <td>False</td>\n",
       "      <td></td>\n",
       "      <td>20d000c80208a000c20802b380000000a080888000a000...</td>\n",
       "      <td>0</td>\n",
       "      <td>13</td>\n",
       "      <td>False</td>\n",
       "      <td>40fb20adfc73e903</td>\n",
       "    </tr>\n",
       "    <tr>\n",
       "      <th>4</th>\n",
       "      <td>1593481282</td>\n",
       "      <td>XoPUTpQH</td>\n",
       "      <td>64839</td>\n",
       "      <td>5900</td>\n",
       "      <td>193.27.228.9</td>\n",
       "      <td>34.105.14.146</td>\n",
       "      <td>10.138.0.62</td>\n",
       "      <td>response</td>\n",
       "      <td>b8ddd71b-b756-4005-8d9c-606fdf87dd17</td>\n",
       "      <td>a61b594b-e136-8c80-01a7-b2fda36d03e0</td>\n",
       "      <td>...</td>\n",
       "      <td>None</td>\n",
       "      <td>None</td>\n",
       "      <td></td>\n",
       "      <td>False</td>\n",
       "      <td></td>\n",
       "      <td>07d0000000000000c00000300000000000000000000000...</td>\n",
       "      <td>0</td>\n",
       "      <td>0</td>\n",
       "      <td>False</td>\n",
       "      <td>ef46db3751d8e999</td>\n",
       "    </tr>\n",
       "  </tbody>\n",
       "</table>\n",
       "<p>5 rows × 48 columns</p>\n",
       "</div>"
      ],
      "text/plain": [
       "    timestamp session_id  source_port  destination_port        source_ip  \\\n",
       "0  1593481283   6CzwqYpV        55662              2082  172.104.144.250   \n",
       "1  1593481284   ydwTG1Wp        38746              8443   222.186.19.210   \n",
       "2  1593481284   HkYZE1kJ        56562              2082  172.104.144.250   \n",
       "3  1593481285   wHr1ZYOg        57408              2082  172.104.144.250   \n",
       "4  1593481282   XoPUTpQH        64839              5900     193.27.228.9   \n",
       "\n",
       "         sensor_ip   destination_ip meta_type  \\\n",
       "0  157.245.219.132  157.245.219.132  response   \n",
       "1  206.189.232.253  206.189.232.253   persona   \n",
       "2  157.245.219.132  157.245.219.132  response   \n",
       "3  157.245.219.132  157.245.219.132  response   \n",
       "4    34.105.14.146      10.138.0.62  response   \n",
       "\n",
       "                             event_uuid                           sensor_uuid  \\\n",
       "0  b293c2bd-a9d8-4288-8932-58ef845e3b18  12368c8a-ba55-744d-3edf-0b8826aaa4e0   \n",
       "1  a22ad20e-cc63-4c2f-95d5-e62ebf76e883  2353e17b-fde5-aa6e-e945-90558a5c741e   \n",
       "2  a412acd4-3b4a-4a5e-ba05-35cc9fbe6d0d  12368c8a-ba55-744d-3edf-0b8826aaa4e0   \n",
       "3  16972fd5-452a-4792-addb-ba2111d14de1  12368c8a-ba55-744d-3edf-0b8826aaa4e0   \n",
       "4  b8ddd71b-b756-4005-8d9c-606fdf87dd17  a61b594b-e136-8c80-01a7-b2fda36d03e0   \n",
       "\n",
       "   ...   url phone                                               data  \\\n",
       "0  ...  None  None                                                      \n",
       "1  ...  None  None  SFRUUC8xLjEgNDAwIEJhZCBSZXF1ZXN0DQpEYXRlOiBNb2...   \n",
       "2  ...  None  None                                           I1NUCg==   \n",
       "3  ...  None  None                               AAtuAAAAAAEEYmVpbw==   \n",
       "4  ...  None  None                                                      \n",
       "\n",
       "  encrypted key                                                lsh  rtt  size  \\\n",
       "0     False      07d0000000000000c00000300000000000000000000000...    0     0   \n",
       "1     False      48f0e1fb92833199852306a01ec1fed6337006e5f65a85...    0    95   \n",
       "2     False      35d0000000000000ccc300300f000000c00000003c0c00...    0     4   \n",
       "3     False      20d000c80208a000c20802b380000000a080888000a000...    0    13   \n",
       "4     False      07d0000000000000c00000300000000000000000000000...    0     0   \n",
       "\n",
       "   timeout               xxh  \n",
       "0    False  ef46db3751d8e999  \n",
       "1    False  283f8d85935ef0b2  \n",
       "2    False  899236b5999a8085  \n",
       "3    False  40fb20adfc73e903  \n",
       "4    False  ef46db3751d8e999  \n",
       "\n",
       "[5 rows x 48 columns]"
      ]
     },
     "execution_count": 11,
     "metadata": {},
     "output_type": "execute_result"
    }
   ],
   "source": [
    "# Concatenate with the original DataFrame\n",
    "df1 = pd.concat([df.drop(columns='event'), event_df], axis=1)\n",
    "df1.head()\n",
    "\n",
    "# remove this columns --> data,url,phone,key,lsh,rtt,xxh,postal,org,lat,rdns validated,long,country_code,mobile\n",
    "# domain,city,ip_version,project,evevt_uuid,source_port,destination_port,session_id,timestamp"
   ]
  },
  {
   "cell_type": "code",
   "execution_count": 12,
   "id": "c64fe785-2bfd-42b1-8a9a-c8578ea4a99c",
   "metadata": {
    "colab": {
     "base_uri": "https://localhost:8080/"
    },
    "executionInfo": {
     "elapsed": 13,
     "status": "ok",
     "timestamp": 1738560818134,
     "user": {
      "displayName": "Arpita Salunke",
      "userId": "17265478825697490155"
     },
     "user_tz": -330
    },
    "id": "c64fe785-2bfd-42b1-8a9a-c8578ea4a99c",
    "outputId": "30f9d2a3-a3ac-4b7c-ca72-2fe3f877327b"
   },
   "outputs": [
    {
     "data": {
      "text/plain": [
       "Index(['timestamp', 'session_id', 'source_port', 'destination_port',\n",
       "       'source_ip', 'sensor_ip', 'destination_ip', 'meta_type', 'event_uuid',\n",
       "       'sensor_uuid', 'hostname', 'project', 'provider', 'org_region',\n",
       "       'protocol', 'app_protocol', '3wh', 'ip_version', 'vpn', 'vpn_service',\n",
       "       'category', 'city', 'domain', 'mobile', 'country', 'region', 'long',\n",
       "       'tor', 'rdns_validated', 'country_code', 'lat', 'org', 'postal', 'type',\n",
       "       'asn', 'datacenter', 'rdns_parent', 'rdns', 'url', 'phone', 'data',\n",
       "       'encrypted', 'key', 'lsh', 'rtt', 'size', 'timeout', 'xxh'],\n",
       "      dtype='object')"
      ]
     },
     "execution_count": 12,
     "metadata": {},
     "output_type": "execute_result"
    }
   ],
   "source": [
    "df1.columns"
   ]
  },
  {
   "cell_type": "code",
   "execution_count": 13,
   "id": "19af6e92-5847-43f1-883d-cb2a3e3f0b3e",
   "metadata": {
    "id": "19af6e92-5847-43f1-883d-cb2a3e3f0b3e"
   },
   "outputs": [],
   "source": [
    "# remove this columns --> data,url,phone,key,lsh,rtt,xxh,postal,org,lat,rdns validated,long,country_code,mobile\n",
    "# domain,city,ip_version,project,evevt_uuid,source_port,destination_port,session_id,timestamp\n",
    "\n",
    "df_final=df1.drop(columns=['data','url','phone','key','lsh','rtt','xxh','postal','org','lat','rdns','rdns_validated','long','country_code','mobile','domain','city','ip_version','project','event_uuid','source_port','destination_port','session_id','timestamp'])"
   ]
  },
  {
   "cell_type": "code",
   "execution_count": 14,
   "id": "8bd8107e-53a2-422c-8384-86c6f50565a9",
   "metadata": {
    "colab": {
     "base_uri": "https://localhost:8080/",
     "height": 964
    },
    "executionInfo": {
     "elapsed": 12,
     "status": "ok",
     "timestamp": 1738560818134,
     "user": {
      "displayName": "Arpita Salunke",
      "userId": "17265478825697490155"
     },
     "user_tz": -330
    },
    "id": "8bd8107e-53a2-422c-8384-86c6f50565a9",
    "outputId": "e347234d-3a1e-4bc1-9bb6-cb1e86ee39c1"
   },
   "outputs": [
    {
     "data": {
      "text/html": [
       "<div>\n",
       "<style scoped>\n",
       "    .dataframe tbody tr th:only-of-type {\n",
       "        vertical-align: middle;\n",
       "    }\n",
       "\n",
       "    .dataframe tbody tr th {\n",
       "        vertical-align: top;\n",
       "    }\n",
       "\n",
       "    .dataframe thead th {\n",
       "        text-align: right;\n",
       "    }\n",
       "</style>\n",
       "<table border=\"1\" class=\"dataframe\">\n",
       "  <thead>\n",
       "    <tr style=\"text-align: right;\">\n",
       "      <th></th>\n",
       "      <th>source_ip</th>\n",
       "      <th>sensor_ip</th>\n",
       "      <th>destination_ip</th>\n",
       "      <th>meta_type</th>\n",
       "      <th>sensor_uuid</th>\n",
       "      <th>hostname</th>\n",
       "      <th>provider</th>\n",
       "      <th>org_region</th>\n",
       "      <th>protocol</th>\n",
       "      <th>app_protocol</th>\n",
       "      <th>...</th>\n",
       "      <th>country</th>\n",
       "      <th>region</th>\n",
       "      <th>tor</th>\n",
       "      <th>type</th>\n",
       "      <th>asn</th>\n",
       "      <th>datacenter</th>\n",
       "      <th>rdns_parent</th>\n",
       "      <th>encrypted</th>\n",
       "      <th>size</th>\n",
       "      <th>timeout</th>\n",
       "    </tr>\n",
       "  </thead>\n",
       "  <tbody>\n",
       "    <tr>\n",
       "      <th>0</th>\n",
       "      <td>172.104.144.250</td>\n",
       "      <td>157.245.219.132</td>\n",
       "      <td>157.245.219.132</td>\n",
       "      <td>response</td>\n",
       "      <td>12368c8a-ba55-744d-3edf-0b8826aaa4e0</td>\n",
       "      <td>nyc3-rorschach-feedback-2</td>\n",
       "      <td>digitalocean</td>\n",
       "      <td>nyc3</td>\n",
       "      <td>TCP</td>\n",
       "      <td></td>\n",
       "      <td>...</td>\n",
       "      <td>Germany</td>\n",
       "      <td>Hesse</td>\n",
       "      <td>False</td>\n",
       "      <td>hosting</td>\n",
       "      <td>AS63949</td>\n",
       "      <td>None</td>\n",
       "      <td>binaryedge.ninja</td>\n",
       "      <td>False</td>\n",
       "      <td>0</td>\n",
       "      <td>False</td>\n",
       "    </tr>\n",
       "    <tr>\n",
       "      <th>1</th>\n",
       "      <td>222.186.19.210</td>\n",
       "      <td>206.189.232.253</td>\n",
       "      <td>206.189.232.253</td>\n",
       "      <td>persona</td>\n",
       "      <td>2353e17b-fde5-aa6e-e945-90558a5c741e</td>\n",
       "      <td>nyc1-rorschach-feedback-2</td>\n",
       "      <td>digitalocean</td>\n",
       "      <td>nyc1</td>\n",
       "      <td>TCP</td>\n",
       "      <td>HTTPS</td>\n",
       "      <td>...</td>\n",
       "      <td>China</td>\n",
       "      <td>Shanghai</td>\n",
       "      <td>False</td>\n",
       "      <td>hosting</td>\n",
       "      <td>AS23650</td>\n",
       "      <td>None</td>\n",
       "      <td>None</td>\n",
       "      <td>False</td>\n",
       "      <td>95</td>\n",
       "      <td>False</td>\n",
       "    </tr>\n",
       "    <tr>\n",
       "      <th>2</th>\n",
       "      <td>172.104.144.250</td>\n",
       "      <td>157.245.219.132</td>\n",
       "      <td>157.245.219.132</td>\n",
       "      <td>response</td>\n",
       "      <td>12368c8a-ba55-744d-3edf-0b8826aaa4e0</td>\n",
       "      <td>nyc3-rorschach-feedback-2</td>\n",
       "      <td>digitalocean</td>\n",
       "      <td>nyc3</td>\n",
       "      <td>TCP</td>\n",
       "      <td></td>\n",
       "      <td>...</td>\n",
       "      <td>Germany</td>\n",
       "      <td>Hesse</td>\n",
       "      <td>False</td>\n",
       "      <td>hosting</td>\n",
       "      <td>AS63949</td>\n",
       "      <td>None</td>\n",
       "      <td>binaryedge.ninja</td>\n",
       "      <td>False</td>\n",
       "      <td>4</td>\n",
       "      <td>False</td>\n",
       "    </tr>\n",
       "    <tr>\n",
       "      <th>3</th>\n",
       "      <td>172.104.144.250</td>\n",
       "      <td>157.245.219.132</td>\n",
       "      <td>157.245.219.132</td>\n",
       "      <td>response</td>\n",
       "      <td>12368c8a-ba55-744d-3edf-0b8826aaa4e0</td>\n",
       "      <td>nyc3-rorschach-feedback-2</td>\n",
       "      <td>digitalocean</td>\n",
       "      <td>nyc3</td>\n",
       "      <td>TCP</td>\n",
       "      <td></td>\n",
       "      <td>...</td>\n",
       "      <td>Germany</td>\n",
       "      <td>Hesse</td>\n",
       "      <td>False</td>\n",
       "      <td>hosting</td>\n",
       "      <td>AS63949</td>\n",
       "      <td>None</td>\n",
       "      <td>binaryedge.ninja</td>\n",
       "      <td>False</td>\n",
       "      <td>13</td>\n",
       "      <td>False</td>\n",
       "    </tr>\n",
       "    <tr>\n",
       "      <th>4</th>\n",
       "      <td>193.27.228.9</td>\n",
       "      <td>34.105.14.146</td>\n",
       "      <td>10.138.0.62</td>\n",
       "      <td>response</td>\n",
       "      <td>a61b594b-e136-8c80-01a7-b2fda36d03e0</td>\n",
       "      <td>us-west1-c-rorschach-feedback-2</td>\n",
       "      <td>google</td>\n",
       "      <td>us-west1-c</td>\n",
       "      <td>TCP</td>\n",
       "      <td></td>\n",
       "      <td>...</td>\n",
       "      <td>Russia</td>\n",
       "      <td>St.-Petersburg</td>\n",
       "      <td>False</td>\n",
       "      <td>hosting</td>\n",
       "      <td>AS49505</td>\n",
       "      <td>None</td>\n",
       "      <td>None</td>\n",
       "      <td>False</td>\n",
       "      <td>0</td>\n",
       "      <td>False</td>\n",
       "    </tr>\n",
       "    <tr>\n",
       "      <th>...</th>\n",
       "      <td>...</td>\n",
       "      <td>...</td>\n",
       "      <td>...</td>\n",
       "      <td>...</td>\n",
       "      <td>...</td>\n",
       "      <td>...</td>\n",
       "      <td>...</td>\n",
       "      <td>...</td>\n",
       "      <td>...</td>\n",
       "      <td>...</td>\n",
       "      <td>...</td>\n",
       "      <td>...</td>\n",
       "      <td>...</td>\n",
       "      <td>...</td>\n",
       "      <td>...</td>\n",
       "      <td>...</td>\n",
       "      <td>...</td>\n",
       "      <td>...</td>\n",
       "      <td>...</td>\n",
       "      <td>...</td>\n",
       "      <td>...</td>\n",
       "    </tr>\n",
       "    <tr>\n",
       "      <th>170660</th>\n",
       "      <td>15.177.50.12</td>\n",
       "      <td>18.231.173.46</td>\n",
       "      <td>172.31.18.153</td>\n",
       "      <td>persona</td>\n",
       "      <td>94efaf5d-66ed-0ff0-737d-cf03dded52cb</td>\n",
       "      <td>ip-172-31-18-153</td>\n",
       "      <td>aws</td>\n",
       "      <td>sa-east-1</td>\n",
       "      <td>TCP</td>\n",
       "      <td>HTTP</td>\n",
       "      <td>...</td>\n",
       "      <td>Singapore</td>\n",
       "      <td>Singapore</td>\n",
       "      <td>False</td>\n",
       "      <td>business</td>\n",
       "      <td>AS16509</td>\n",
       "      <td>Amazon AWS</td>\n",
       "      <td>amazonaws.com</td>\n",
       "      <td>False</td>\n",
       "      <td>228</td>\n",
       "      <td>False</td>\n",
       "    </tr>\n",
       "    <tr>\n",
       "      <th>170661</th>\n",
       "      <td>15.177.6.10</td>\n",
       "      <td>18.231.173.46</td>\n",
       "      <td>172.31.18.153</td>\n",
       "      <td>response</td>\n",
       "      <td>94efaf5d-66ed-0ff0-737d-cf03dded52cb</td>\n",
       "      <td>ip-172-31-18-153</td>\n",
       "      <td>aws</td>\n",
       "      <td>sa-east-1</td>\n",
       "      <td>TCP</td>\n",
       "      <td>HTTP</td>\n",
       "      <td>...</td>\n",
       "      <td>United States</td>\n",
       "      <td>Virginia</td>\n",
       "      <td>False</td>\n",
       "      <td>business</td>\n",
       "      <td>AS14618</td>\n",
       "      <td>Amazon AWS</td>\n",
       "      <td>None</td>\n",
       "      <td>False</td>\n",
       "      <td>228</td>\n",
       "      <td>False</td>\n",
       "    </tr>\n",
       "    <tr>\n",
       "      <th>170662</th>\n",
       "      <td>15.177.6.10</td>\n",
       "      <td>18.231.173.46</td>\n",
       "      <td>172.31.18.153</td>\n",
       "      <td>persona</td>\n",
       "      <td>94efaf5d-66ed-0ff0-737d-cf03dded52cb</td>\n",
       "      <td>ip-172-31-18-153</td>\n",
       "      <td>aws</td>\n",
       "      <td>sa-east-1</td>\n",
       "      <td>TCP</td>\n",
       "      <td>HTTP</td>\n",
       "      <td>...</td>\n",
       "      <td>United States</td>\n",
       "      <td>Virginia</td>\n",
       "      <td>False</td>\n",
       "      <td>business</td>\n",
       "      <td>AS14618</td>\n",
       "      <td>Amazon AWS</td>\n",
       "      <td>None</td>\n",
       "      <td>False</td>\n",
       "      <td>228</td>\n",
       "      <td>False</td>\n",
       "    </tr>\n",
       "    <tr>\n",
       "      <th>170663</th>\n",
       "      <td>89.144.47.17</td>\n",
       "      <td>206.189.232.176</td>\n",
       "      <td>206.189.232.176</td>\n",
       "      <td>response</td>\n",
       "      <td>7bd22cd6-8afb-766a-b755-4f1923710965</td>\n",
       "      <td>nyc1-rorschach-feedback-1</td>\n",
       "      <td>digitalocean</td>\n",
       "      <td>nyc1</td>\n",
       "      <td>TCP</td>\n",
       "      <td></td>\n",
       "      <td>...</td>\n",
       "      <td>Seychelles</td>\n",
       "      <td>English River</td>\n",
       "      <td>False</td>\n",
       "      <td>business</td>\n",
       "      <td>AS35042</td>\n",
       "      <td>None</td>\n",
       "      <td>None</td>\n",
       "      <td>False</td>\n",
       "      <td>47</td>\n",
       "      <td>False</td>\n",
       "    </tr>\n",
       "    <tr>\n",
       "      <th>170664</th>\n",
       "      <td>118.70.179.232</td>\n",
       "      <td>206.189.232.176</td>\n",
       "      <td>206.189.232.176</td>\n",
       "      <td>response</td>\n",
       "      <td>7bd22cd6-8afb-766a-b755-4f1923710965</td>\n",
       "      <td>nyc1-rorschach-feedback-1</td>\n",
       "      <td>digitalocean</td>\n",
       "      <td>nyc1</td>\n",
       "      <td>TCP</td>\n",
       "      <td></td>\n",
       "      <td>...</td>\n",
       "      <td>Vietnam</td>\n",
       "      <td>Hanoi</td>\n",
       "      <td>False</td>\n",
       "      <td>isp</td>\n",
       "      <td>AS18403</td>\n",
       "      <td>None</td>\n",
       "      <td>None</td>\n",
       "      <td>False</td>\n",
       "      <td>73</td>\n",
       "      <td>False</td>\n",
       "    </tr>\n",
       "  </tbody>\n",
       "</table>\n",
       "<p>170665 rows × 24 columns</p>\n",
       "</div>"
      ],
      "text/plain": [
       "              source_ip        sensor_ip   destination_ip meta_type  \\\n",
       "0       172.104.144.250  157.245.219.132  157.245.219.132  response   \n",
       "1        222.186.19.210  206.189.232.253  206.189.232.253   persona   \n",
       "2       172.104.144.250  157.245.219.132  157.245.219.132  response   \n",
       "3       172.104.144.250  157.245.219.132  157.245.219.132  response   \n",
       "4          193.27.228.9    34.105.14.146      10.138.0.62  response   \n",
       "...                 ...              ...              ...       ...   \n",
       "170660     15.177.50.12    18.231.173.46    172.31.18.153   persona   \n",
       "170661      15.177.6.10    18.231.173.46    172.31.18.153  response   \n",
       "170662      15.177.6.10    18.231.173.46    172.31.18.153   persona   \n",
       "170663     89.144.47.17  206.189.232.176  206.189.232.176  response   \n",
       "170664   118.70.179.232  206.189.232.176  206.189.232.176  response   \n",
       "\n",
       "                                 sensor_uuid                         hostname  \\\n",
       "0       12368c8a-ba55-744d-3edf-0b8826aaa4e0        nyc3-rorschach-feedback-2   \n",
       "1       2353e17b-fde5-aa6e-e945-90558a5c741e        nyc1-rorschach-feedback-2   \n",
       "2       12368c8a-ba55-744d-3edf-0b8826aaa4e0        nyc3-rorschach-feedback-2   \n",
       "3       12368c8a-ba55-744d-3edf-0b8826aaa4e0        nyc3-rorschach-feedback-2   \n",
       "4       a61b594b-e136-8c80-01a7-b2fda36d03e0  us-west1-c-rorschach-feedback-2   \n",
       "...                                      ...                              ...   \n",
       "170660  94efaf5d-66ed-0ff0-737d-cf03dded52cb                 ip-172-31-18-153   \n",
       "170661  94efaf5d-66ed-0ff0-737d-cf03dded52cb                 ip-172-31-18-153   \n",
       "170662  94efaf5d-66ed-0ff0-737d-cf03dded52cb                 ip-172-31-18-153   \n",
       "170663  7bd22cd6-8afb-766a-b755-4f1923710965        nyc1-rorschach-feedback-1   \n",
       "170664  7bd22cd6-8afb-766a-b755-4f1923710965        nyc1-rorschach-feedback-1   \n",
       "\n",
       "            provider  org_region protocol app_protocol  ...        country  \\\n",
       "0       digitalocean        nyc3      TCP               ...        Germany   \n",
       "1       digitalocean        nyc1      TCP        HTTPS  ...          China   \n",
       "2       digitalocean        nyc3      TCP               ...        Germany   \n",
       "3       digitalocean        nyc3      TCP               ...        Germany   \n",
       "4             google  us-west1-c      TCP               ...         Russia   \n",
       "...              ...         ...      ...          ...  ...            ...   \n",
       "170660           aws   sa-east-1      TCP         HTTP  ...      Singapore   \n",
       "170661           aws   sa-east-1      TCP         HTTP  ...  United States   \n",
       "170662           aws   sa-east-1      TCP         HTTP  ...  United States   \n",
       "170663  digitalocean        nyc1      TCP               ...     Seychelles   \n",
       "170664  digitalocean        nyc1      TCP               ...        Vietnam   \n",
       "\n",
       "                region    tor      type      asn  datacenter  \\\n",
       "0                Hesse  False   hosting  AS63949        None   \n",
       "1             Shanghai  False   hosting  AS23650        None   \n",
       "2                Hesse  False   hosting  AS63949        None   \n",
       "3                Hesse  False   hosting  AS63949        None   \n",
       "4       St.-Petersburg  False   hosting  AS49505        None   \n",
       "...                ...    ...       ...      ...         ...   \n",
       "170660       Singapore  False  business  AS16509  Amazon AWS   \n",
       "170661        Virginia  False  business  AS14618  Amazon AWS   \n",
       "170662        Virginia  False  business  AS14618  Amazon AWS   \n",
       "170663   English River  False  business  AS35042        None   \n",
       "170664           Hanoi  False       isp  AS18403        None   \n",
       "\n",
       "             rdns_parent encrypted size timeout  \n",
       "0       binaryedge.ninja     False    0   False  \n",
       "1                   None     False   95   False  \n",
       "2       binaryedge.ninja     False    4   False  \n",
       "3       binaryedge.ninja     False   13   False  \n",
       "4                   None     False    0   False  \n",
       "...                  ...       ...  ...     ...  \n",
       "170660     amazonaws.com     False  228   False  \n",
       "170661              None     False  228   False  \n",
       "170662              None     False  228   False  \n",
       "170663              None     False   47   False  \n",
       "170664              None     False   73   False  \n",
       "\n",
       "[170665 rows x 24 columns]"
      ]
     },
     "execution_count": 14,
     "metadata": {},
     "output_type": "execute_result"
    }
   ],
   "source": [
    "df_final"
   ]
  },
  {
   "cell_type": "markdown",
   "id": "afa0818d-c3dc-4d50-9b0c-fffa54e1f9f0",
   "metadata": {
    "id": "afa0818d-c3dc-4d50-9b0c-fffa54e1f9f0"
   },
   "source": [
    "# checking for missing values after concating metadata and event"
   ]
  },
  {
   "cell_type": "code",
   "execution_count": 15,
   "id": "b2b01af6-1a25-4e5c-8c2d-a8be6e9e3d9e",
   "metadata": {
    "colab": {
     "base_uri": "https://localhost:8080/"
    },
    "executionInfo": {
     "elapsed": 474,
     "status": "ok",
     "timestamp": 1738560818597,
     "user": {
      "displayName": "Arpita Salunke",
      "userId": "17265478825697490155"
     },
     "user_tz": -330
    },
    "id": "b2b01af6-1a25-4e5c-8c2d-a8be6e9e3d9e",
    "outputId": "7d637196-b99c-412a-8488-b46b6e0b2563"
   },
   "outputs": [
    {
     "name": "stdout",
     "output_type": "stream",
     "text": [
      "source_ip          0.000000\n",
      "sensor_ip          0.000000\n",
      "destination_ip     0.000000\n",
      "meta_type          0.000000\n",
      "sensor_uuid        0.000000\n",
      "hostname           0.000000\n",
      "provider           0.000000\n",
      "org_region         0.000000\n",
      "protocol           0.000000\n",
      "app_protocol       0.000000\n",
      "3wh                0.000000\n",
      "vpn                0.000000\n",
      "vpn_service        0.000000\n",
      "category           0.000000\n",
      "country            0.008203\n",
      "region             0.009375\n",
      "tor                0.000000\n",
      "type               0.000000\n",
      "asn                0.000000\n",
      "datacenter        94.042715\n",
      "rdns_parent       45.930331\n",
      "encrypted          0.000000\n",
      "size               0.000000\n",
      "timeout            0.000000\n",
      "dtype: float64\n"
     ]
    }
   ],
   "source": [
    "missing_percent = df_final.isnull().mean() * 100\n",
    "print(missing_percent)"
   ]
  },
  {
   "cell_type": "code",
   "execution_count": 16,
   "id": "19767272-b03a-48ff-94c8-b5d699150142",
   "metadata": {
    "id": "19767272-b03a-48ff-94c8-b5d699150142"
   },
   "outputs": [],
   "source": [
    "df_final1=df_final.drop(columns=[\"datacenter\",\"rdns_parent\"])"
   ]
  },
  {
   "cell_type": "markdown",
   "id": "5ce4e1f5-fcd6-4563-9e67-d5af04f5d32b",
   "metadata": {
    "id": "5ce4e1f5-fcd6-4563-9e67-d5af04f5d32b"
   },
   "source": [
    "# OHE"
   ]
  },
  {
   "cell_type": "code",
   "execution_count": 17,
   "id": "9d94e2f9-5a6e-401f-9e8b-6661bb260e51",
   "metadata": {
    "id": "9d94e2f9-5a6e-401f-9e8b-6661bb260e51"
   },
   "outputs": [],
   "source": [
    "# Identify categorical columns (replace with actual column names)\n",
    "categorical_columns = df_final1.select_dtypes(include=['object', 'category']).columns.tolist()\n",
    "\n",
    "#OHE on categorical columns\n",
    "df_ohe = pd.get_dummies(df_final1, columns=categorical_columns, sparse=True,drop_first=True)"
   ]
  },
  {
   "cell_type": "code",
   "execution_count": 18,
   "id": "1caea63f-8db1-4a7d-ba53-df5b14c99a91",
   "metadata": {
    "id": "1caea63f-8db1-4a7d-ba53-df5b14c99a91"
   },
   "outputs": [],
   "source": [
    "import pandas as pd\n",
    "\n",
    "# Make a copy to avoid modifying the original DataFrame\n",
    "df_dense = df_ohe.copy()\n",
    "\n",
    "# Convert only sparse columns to dense\n",
    "for col in df_dense.columns:\n",
    "    if isinstance(df_dense[col].dtype, pd.SparseDtype):  # Check if column is sparse\n",
    "        df_dense[col] = df_dense[col].sparse.to_dense()  # Convert to dense\n"
   ]
  },
  {
   "cell_type": "code",
   "execution_count": 19,
   "id": "7d57fc80-3384-4099-9125-a8213cd9fdd8",
   "metadata": {
    "colab": {
     "base_uri": "https://localhost:8080/",
     "height": 458
    },
    "executionInfo": {
     "elapsed": 19,
     "status": "ok",
     "timestamp": 1738560825433,
     "user": {
      "displayName": "Arpita Salunke",
      "userId": "17265478825697490155"
     },
     "user_tz": -330
    },
    "id": "7d57fc80-3384-4099-9125-a8213cd9fdd8",
    "outputId": "e6cf6026-1a8a-428e-cb88-ce02ffc3e54c"
   },
   "outputs": [
    {
     "data": {
      "text/plain": [
       "3wh            bool\n",
       "vpn            bool\n",
       "tor            bool\n",
       "encrypted      bool\n",
       "size          int64\n",
       "              ...  \n",
       "asn_AS9930     bool\n",
       "asn_AS9931     bool\n",
       "asn_AS9943     bool\n",
       "asn_AS9952     bool\n",
       "asn_AS9971     bool\n",
       "Length: 11272, dtype: object"
      ]
     },
     "execution_count": 19,
     "metadata": {},
     "output_type": "execute_result"
    }
   ],
   "source": [
    "df_dense.dtypes"
   ]
  },
  {
   "cell_type": "code",
   "execution_count": 20,
   "id": "fc1c8df7-7832-478b-ad61-82078a653777",
   "metadata": {
    "colab": {
     "base_uri": "https://localhost:8080/"
    },
    "executionInfo": {
     "elapsed": 17,
     "status": "ok",
     "timestamp": 1738560825433,
     "user": {
      "displayName": "Arpita Salunke",
      "userId": "17265478825697490155"
     },
     "user_tz": -330
    },
    "id": "fc1c8df7-7832-478b-ad61-82078a653777",
    "outputId": "85a88c2c-48c3-42d4-8028-d7a963df7508"
   },
   "outputs": [
    {
     "data": {
      "text/plain": [
       "(170665, 11272)"
      ]
     },
     "execution_count": 20,
     "metadata": {},
     "output_type": "execute_result"
    }
   ],
   "source": [
    "df_dense.shape"
   ]
  },
  {
   "cell_type": "code",
   "execution_count": 21,
   "id": "0093b6e2-d8bb-4564-9af7-a6382345127a",
   "metadata": {
    "colab": {
     "base_uri": "https://localhost:8080/"
    },
    "executionInfo": {
     "elapsed": 15,
     "status": "ok",
     "timestamp": 1738560825433,
     "user": {
      "displayName": "Arpita Salunke",
      "userId": "17265478825697490155"
     },
     "user_tz": -330
    },
    "id": "0093b6e2-d8bb-4564-9af7-a6382345127a",
    "outputId": "403dde0b-3167-4f70-e743-972b18f86d2c"
   },
   "outputs": [
    {
     "data": {
      "text/plain": [
       "Index(['3wh', 'vpn', 'tor', 'encrypted', 'size', 'timeout',\n",
       "       'source_ip_1.0.147.208', 'source_ip_1.0.215.187',\n",
       "       'source_ip_1.0.234.63', 'source_ip_1.0.249.201',\n",
       "       ...\n",
       "       'asn_AS9891', 'asn_AS9905', 'asn_AS9919', 'asn_AS9924', 'asn_AS9927',\n",
       "       'asn_AS9930', 'asn_AS9931', 'asn_AS9943', 'asn_AS9952', 'asn_AS9971'],\n",
       "      dtype='object', length=11272)"
      ]
     },
     "execution_count": 21,
     "metadata": {},
     "output_type": "execute_result"
    }
   ],
   "source": [
    "df_dense.columns"
   ]
  },
  {
   "cell_type": "code",
   "execution_count": 22,
   "id": "c07f9006-69c2-4a44-b659-6ad0a0f8a111",
   "metadata": {
    "colab": {
     "base_uri": "https://localhost:8080/",
     "height": 255
    },
    "executionInfo": {
     "elapsed": 14,
     "status": "ok",
     "timestamp": 1738560825433,
     "user": {
      "displayName": "Arpita Salunke",
      "userId": "17265478825697490155"
     },
     "user_tz": -330
    },
    "id": "c07f9006-69c2-4a44-b659-6ad0a0f8a111",
    "outputId": "5ade3b53-9a1b-4526-f8fe-454a1dfaab8d"
   },
   "outputs": [
    {
     "data": {
      "text/html": [
       "<div>\n",
       "<style scoped>\n",
       "    .dataframe tbody tr th:only-of-type {\n",
       "        vertical-align: middle;\n",
       "    }\n",
       "\n",
       "    .dataframe tbody tr th {\n",
       "        vertical-align: top;\n",
       "    }\n",
       "\n",
       "    .dataframe thead th {\n",
       "        text-align: right;\n",
       "    }\n",
       "</style>\n",
       "<table border=\"1\" class=\"dataframe\">\n",
       "  <thead>\n",
       "    <tr style=\"text-align: right;\">\n",
       "      <th></th>\n",
       "      <th>3wh</th>\n",
       "      <th>vpn</th>\n",
       "      <th>tor</th>\n",
       "      <th>encrypted</th>\n",
       "      <th>size</th>\n",
       "      <th>timeout</th>\n",
       "      <th>source_ip_1.0.147.208</th>\n",
       "      <th>source_ip_1.0.215.187</th>\n",
       "      <th>source_ip_1.0.234.63</th>\n",
       "      <th>source_ip_1.0.249.201</th>\n",
       "      <th>...</th>\n",
       "      <th>asn_AS9891</th>\n",
       "      <th>asn_AS9905</th>\n",
       "      <th>asn_AS9919</th>\n",
       "      <th>asn_AS9924</th>\n",
       "      <th>asn_AS9927</th>\n",
       "      <th>asn_AS9930</th>\n",
       "      <th>asn_AS9931</th>\n",
       "      <th>asn_AS9943</th>\n",
       "      <th>asn_AS9952</th>\n",
       "      <th>asn_AS9971</th>\n",
       "    </tr>\n",
       "  </thead>\n",
       "  <tbody>\n",
       "    <tr>\n",
       "      <th>0</th>\n",
       "      <td>True</td>\n",
       "      <td>False</td>\n",
       "      <td>False</td>\n",
       "      <td>False</td>\n",
       "      <td>0</td>\n",
       "      <td>False</td>\n",
       "      <td>False</td>\n",
       "      <td>False</td>\n",
       "      <td>False</td>\n",
       "      <td>False</td>\n",
       "      <td>...</td>\n",
       "      <td>False</td>\n",
       "      <td>False</td>\n",
       "      <td>False</td>\n",
       "      <td>False</td>\n",
       "      <td>False</td>\n",
       "      <td>False</td>\n",
       "      <td>False</td>\n",
       "      <td>False</td>\n",
       "      <td>False</td>\n",
       "      <td>False</td>\n",
       "    </tr>\n",
       "    <tr>\n",
       "      <th>1</th>\n",
       "      <td>False</td>\n",
       "      <td>False</td>\n",
       "      <td>False</td>\n",
       "      <td>False</td>\n",
       "      <td>95</td>\n",
       "      <td>False</td>\n",
       "      <td>False</td>\n",
       "      <td>False</td>\n",
       "      <td>False</td>\n",
       "      <td>False</td>\n",
       "      <td>...</td>\n",
       "      <td>False</td>\n",
       "      <td>False</td>\n",
       "      <td>False</td>\n",
       "      <td>False</td>\n",
       "      <td>False</td>\n",
       "      <td>False</td>\n",
       "      <td>False</td>\n",
       "      <td>False</td>\n",
       "      <td>False</td>\n",
       "      <td>False</td>\n",
       "    </tr>\n",
       "    <tr>\n",
       "      <th>2</th>\n",
       "      <td>True</td>\n",
       "      <td>False</td>\n",
       "      <td>False</td>\n",
       "      <td>False</td>\n",
       "      <td>4</td>\n",
       "      <td>False</td>\n",
       "      <td>False</td>\n",
       "      <td>False</td>\n",
       "      <td>False</td>\n",
       "      <td>False</td>\n",
       "      <td>...</td>\n",
       "      <td>False</td>\n",
       "      <td>False</td>\n",
       "      <td>False</td>\n",
       "      <td>False</td>\n",
       "      <td>False</td>\n",
       "      <td>False</td>\n",
       "      <td>False</td>\n",
       "      <td>False</td>\n",
       "      <td>False</td>\n",
       "      <td>False</td>\n",
       "    </tr>\n",
       "    <tr>\n",
       "      <th>3</th>\n",
       "      <td>True</td>\n",
       "      <td>False</td>\n",
       "      <td>False</td>\n",
       "      <td>False</td>\n",
       "      <td>13</td>\n",
       "      <td>False</td>\n",
       "      <td>False</td>\n",
       "      <td>False</td>\n",
       "      <td>False</td>\n",
       "      <td>False</td>\n",
       "      <td>...</td>\n",
       "      <td>False</td>\n",
       "      <td>False</td>\n",
       "      <td>False</td>\n",
       "      <td>False</td>\n",
       "      <td>False</td>\n",
       "      <td>False</td>\n",
       "      <td>False</td>\n",
       "      <td>False</td>\n",
       "      <td>False</td>\n",
       "      <td>False</td>\n",
       "    </tr>\n",
       "    <tr>\n",
       "      <th>4</th>\n",
       "      <td>True</td>\n",
       "      <td>False</td>\n",
       "      <td>False</td>\n",
       "      <td>False</td>\n",
       "      <td>0</td>\n",
       "      <td>False</td>\n",
       "      <td>False</td>\n",
       "      <td>False</td>\n",
       "      <td>False</td>\n",
       "      <td>False</td>\n",
       "      <td>...</td>\n",
       "      <td>False</td>\n",
       "      <td>False</td>\n",
       "      <td>False</td>\n",
       "      <td>False</td>\n",
       "      <td>False</td>\n",
       "      <td>False</td>\n",
       "      <td>False</td>\n",
       "      <td>False</td>\n",
       "      <td>False</td>\n",
       "      <td>False</td>\n",
       "    </tr>\n",
       "  </tbody>\n",
       "</table>\n",
       "<p>5 rows × 11272 columns</p>\n",
       "</div>"
      ],
      "text/plain": [
       "     3wh    vpn    tor  encrypted  size  timeout  source_ip_1.0.147.208  \\\n",
       "0   True  False  False      False     0    False                  False   \n",
       "1  False  False  False      False    95    False                  False   \n",
       "2   True  False  False      False     4    False                  False   \n",
       "3   True  False  False      False    13    False                  False   \n",
       "4   True  False  False      False     0    False                  False   \n",
       "\n",
       "   source_ip_1.0.215.187  source_ip_1.0.234.63  source_ip_1.0.249.201  ...  \\\n",
       "0                  False                 False                  False  ...   \n",
       "1                  False                 False                  False  ...   \n",
       "2                  False                 False                  False  ...   \n",
       "3                  False                 False                  False  ...   \n",
       "4                  False                 False                  False  ...   \n",
       "\n",
       "   asn_AS9891  asn_AS9905  asn_AS9919  asn_AS9924  asn_AS9927  asn_AS9930  \\\n",
       "0       False       False       False       False       False       False   \n",
       "1       False       False       False       False       False       False   \n",
       "2       False       False       False       False       False       False   \n",
       "3       False       False       False       False       False       False   \n",
       "4       False       False       False       False       False       False   \n",
       "\n",
       "   asn_AS9931  asn_AS9943  asn_AS9952  asn_AS9971  \n",
       "0       False       False       False       False  \n",
       "1       False       False       False       False  \n",
       "2       False       False       False       False  \n",
       "3       False       False       False       False  \n",
       "4       False       False       False       False  \n",
       "\n",
       "[5 rows x 11272 columns]"
      ]
     },
     "execution_count": 22,
     "metadata": {},
     "output_type": "execute_result"
    }
   ],
   "source": [
    "df_dense.head()"
   ]
  },
  {
   "cell_type": "code",
   "execution_count": 23,
   "id": "ee2d2ebd-cb91-4c4c-bae8-1ec55d97dc75",
   "metadata": {
    "id": "ee2d2ebd-cb91-4c4c-bae8-1ec55d97dc75"
   },
   "outputs": [],
   "source": [
    "df_dense = df_dense.loc[:, ~df_dense.columns.duplicated()]#removinf duplicate columbs"
   ]
  },
  {
   "cell_type": "code",
   "execution_count": 24,
   "id": "82eb2c54-b606-4477-89ab-e285893c02e3",
   "metadata": {
    "colab": {
     "base_uri": "https://localhost:8080/"
    },
    "executionInfo": {
     "elapsed": 9,
     "status": "ok",
     "timestamp": 1738560829327,
     "user": {
      "displayName": "Arpita Salunke",
      "userId": "17265478825697490155"
     },
     "user_tz": -330
    },
    "id": "82eb2c54-b606-4477-89ab-e285893c02e3",
    "outputId": "9bf6cecc-c816-4dd9-a5cd-cbe7d478fdb5"
   },
   "outputs": [
    {
     "data": {
      "text/plain": [
       "Index(['3wh', 'vpn', 'tor', 'encrypted', 'size', 'timeout',\n",
       "       'source_ip_1.0.147.208', 'source_ip_1.0.215.187',\n",
       "       'source_ip_1.0.234.63', 'source_ip_1.0.249.201',\n",
       "       ...\n",
       "       'asn_AS9891', 'asn_AS9905', 'asn_AS9919', 'asn_AS9924', 'asn_AS9927',\n",
       "       'asn_AS9930', 'asn_AS9931', 'asn_AS9943', 'asn_AS9952', 'asn_AS9971'],\n",
       "      dtype='object', length=11272)"
      ]
     },
     "execution_count": 24,
     "metadata": {},
     "output_type": "execute_result"
    }
   ],
   "source": [
    "df_dense.columns"
   ]
  },
  {
   "cell_type": "code",
   "execution_count": 25,
   "id": "42ff5c80-8a95-4fb3-bfd3-c1dd14c43936",
   "metadata": {
    "colab": {
     "base_uri": "https://localhost:8080/"
    },
    "executionInfo": {
     "elapsed": 8,
     "status": "ok",
     "timestamp": 1738560829327,
     "user": {
      "displayName": "Arpita Salunke",
      "userId": "17265478825697490155"
     },
     "user_tz": -330
    },
    "id": "42ff5c80-8a95-4fb3-bfd3-c1dd14c43936",
    "outputId": "087ea77f-3da9-402b-d8e9-10ac0b1460a6"
   },
   "outputs": [
    {
     "data": {
      "text/plain": [
       "(170665, 11272)"
      ]
     },
     "execution_count": 25,
     "metadata": {},
     "output_type": "execute_result"
    }
   ],
   "source": [
    "df_dense.shape"
   ]
  },
  {
   "cell_type": "code",
   "execution_count": 26,
   "id": "c12889d2-4039-4ec6-b7f8-355dfead5326",
   "metadata": {
    "colab": {
     "base_uri": "https://localhost:8080/"
    },
    "executionInfo": {
     "elapsed": 7,
     "status": "ok",
     "timestamp": 1738560829327,
     "user": {
      "displayName": "Arpita Salunke",
      "userId": "17265478825697490155"
     },
     "user_tz": -330
    },
    "id": "c12889d2-4039-4ec6-b7f8-355dfead5326",
    "outputId": "85cac6b0-0bdc-4ba4-eb8d-738eacfa9ee1"
   },
   "outputs": [
    {
     "data": {
      "text/plain": [
       "Index(['size'], dtype='object')"
      ]
     },
     "execution_count": 26,
     "metadata": {},
     "output_type": "execute_result"
    }
   ],
   "source": [
    "#Select numerical columns\n",
    "numerical_df = df_final1.select_dtypes(include=['number'])\n",
    "numerical_df.columns\n"
   ]
  },
  {
   "cell_type": "code",
   "execution_count": 27,
   "id": "d1afea8b-f2f3-42ce-8aab-bd1bfb109e57",
   "metadata": {
    "colab": {
     "base_uri": "https://localhost:8080/"
    },
    "executionInfo": {
     "elapsed": 1842,
     "status": "ok",
     "timestamp": 1738560831164,
     "user": {
      "displayName": "Arpita Salunke",
      "userId": "17265478825697490155"
     },
     "user_tz": -330
    },
    "id": "d1afea8b-f2f3-42ce-8aab-bd1bfb109e57",
    "outputId": "334ddb33-ca85-42b9-cd22-f37c51e5b795"
   },
   "outputs": [
    {
     "name": "stdout",
     "output_type": "stream",
     "text": [
      "     3wh    vpn    tor  encrypted  size  timeout  source_ip_1.0.147.208  \\\n",
      "0   True  False  False      False     0    False                  False   \n",
      "1  False  False  False      False    95    False                  False   \n",
      "2   True  False  False      False     4    False                  False   \n",
      "3   True  False  False      False    13    False                  False   \n",
      "4   True  False  False      False     0    False                  False   \n",
      "\n",
      "   source_ip_1.0.215.187  source_ip_1.0.234.63  source_ip_1.0.249.201  ...  \\\n",
      "0                  False                 False                  False  ...   \n",
      "1                  False                 False                  False  ...   \n",
      "2                  False                 False                  False  ...   \n",
      "3                  False                 False                  False  ...   \n",
      "4                  False                 False                  False  ...   \n",
      "\n",
      "   asn_AS9905  asn_AS9919  asn_AS9924  asn_AS9927  asn_AS9930  asn_AS9931  \\\n",
      "0       False       False       False       False       False       False   \n",
      "1       False       False       False       False       False       False   \n",
      "2       False       False       False       False       False       False   \n",
      "3       False       False       False       False       False       False   \n",
      "4       False       False       False       False       False       False   \n",
      "\n",
      "   asn_AS9943  asn_AS9952  asn_AS9971  size  \n",
      "0       False       False       False     0  \n",
      "1       False       False       False    95  \n",
      "2       False       False       False     4  \n",
      "3       False       False       False    13  \n",
      "4       False       False       False     0  \n",
      "\n",
      "[5 rows x 11273 columns]\n"
     ]
    }
   ],
   "source": [
    "df_combined = pd.concat([df_dense, numerical_df], axis=1)\n",
    "\n",
    "# Print the combined DataFrame\n",
    "print(df_combined.head())"
   ]
  },
  {
   "cell_type": "code",
   "execution_count": 28,
   "id": "28bcb4f3-b8eb-4d4a-87f7-a03e8561bec6",
   "metadata": {
    "id": "28bcb4f3-b8eb-4d4a-87f7-a03e8561bec6"
   },
   "outputs": [],
   "source": [
    "df_cleaned = df_combined.dropna()"
   ]
  },
  {
   "cell_type": "code",
   "execution_count": 29,
   "id": "7c980762-3d87-4048-80ae-32b5f5a9e6bb",
   "metadata": {
    "colab": {
     "base_uri": "https://localhost:8080/"
    },
    "executionInfo": {
     "elapsed": 5,
     "status": "ok",
     "timestamp": 1738560832502,
     "user": {
      "displayName": "Arpita Salunke",
      "userId": "17265478825697490155"
     },
     "user_tz": -330
    },
    "id": "7c980762-3d87-4048-80ae-32b5f5a9e6bb",
    "outputId": "5255e7f3-368a-4b7f-8aee-568d75d44462"
   },
   "outputs": [
    {
     "data": {
      "text/plain": [
       "(170665, 11273)"
      ]
     },
     "execution_count": 29,
     "metadata": {},
     "output_type": "execute_result"
    }
   ],
   "source": [
    "df_cleaned.shape"
   ]
  },
  {
   "cell_type": "code",
   "execution_count": 30,
   "id": "a6214cc5-dad5-4db6-8419-53ad87c3aad6",
   "metadata": {
    "id": "a6214cc5-dad5-4db6-8419-53ad87c3aad6",
    "outputId": "163a91b5-27d4-4983-d1e5-696370173b3d"
   },
   "outputs": [
    {
     "name": "stdout",
     "output_type": "stream",
     "text": [
      "Number of duplicate rows: 141444\n"
     ]
    }
   ],
   "source": [
    "duplicate_counts = df_cleaned.duplicated(keep=False).sum()\n",
    "print(f\"Number of duplicate rows: {duplicate_counts}\")"
   ]
  },
  {
   "cell_type": "code",
   "execution_count": 31,
   "id": "86d03e59-5dfc-4b95-9a92-facebd125dde",
   "metadata": {
    "id": "86d03e59-5dfc-4b95-9a92-facebd125dde",
    "outputId": "d1d7ff6e-35e7-45bd-dbe1-494416aa0e72"
   },
   "outputs": [
    {
     "data": {
      "text/plain": [
       "(29221, 11273)"
      ]
     },
     "execution_count": 31,
     "metadata": {},
     "output_type": "execute_result"
    }
   ],
   "source": [
    "df_cleaned = df_cleaned.drop_duplicates(keep=False)\n",
    "df_cleaned.shape"
   ]
  },
  {
   "cell_type": "markdown",
   "id": "46ec56ad-8dda-4600-9c37-f3b171d4e5b1",
   "metadata": {
    "id": "46ec56ad-8dda-4600-9c37-f3b171d4e5b1"
   },
   "source": [
    "# Data standardization"
   ]
  },
  {
   "cell_type": "code",
   "execution_count": 32,
   "id": "5e606778-83cb-4e59-b7b3-65a108e009a5",
   "metadata": {
    "id": "5e606778-83cb-4e59-b7b3-65a108e009a5"
   },
   "outputs": [],
   "source": [
    "from sklearn.preprocessing import StandardScaler\n",
    "X = StandardScaler().fit_transform(df_cleaned) # standardization"
   ]
  },
  {
   "cell_type": "markdown",
   "id": "b32b0388-8bc6-4307-8944-4a4b6e013073",
   "metadata": {
    "id": "b32b0388-8bc6-4307-8944-4a4b6e013073"
   },
   "source": [
    "# PCA-to check data is linearly separable"
   ]
  },
  {
   "cell_type": "code",
   "execution_count": 33,
   "id": "f8ab9aae-9409-4fc6-bc95-839d326b6bbc",
   "metadata": {
    "id": "f8ab9aae-9409-4fc6-bc95-839d326b6bbc",
    "outputId": "c6cae360-96fb-46f6-8b86-1415ebc99bb0"
   },
   "outputs": [
    {
     "data": {
      "image/png": "[encoded data removed]",
      "text/plain": [
       "<Figure size 640x480 with 1 Axes>"
      ]
     },
     "metadata": {},
     "output_type": "display_data"
    }
   ],
   "source": [
    "from sklearn.decomposition import PCA\n",
    "import matplotlib.pyplot as plt\n",
    "\n",
    "pca = PCA(n_components=2)\n",
    "X_pca = pca.fit_transform(X)\n",
    "\n",
    "plt.scatter(X_pca[:, 0], X_pca[:, 1], color='blue', edgecolors='k')\n",
    "plt.xlabel(\"Principal Component 1\")\n",
    "plt.ylabel(\"Principal Component 2\")\n",
    "plt.title(\"PCA Projection of Unlabeled Data\")\n",
    "plt.show()"
   ]
  },
  {
   "cell_type": "markdown",
   "id": "3fe1dfba-4748-4502-9857-7ea4fc3db994",
   "metadata": {
    "id": "3fe1dfba-4748-4502-9857-7ea4fc3db994"
   },
   "source": [
    "# 1. DBSCAN"
   ]
  },
  {
   "cell_type": "markdown",
   "id": "e5cbc0c4-eb6d-48f8-845f-e03b3655c296",
   "metadata": {
    "id": "e5cbc0c4-eb6d-48f8-845f-e03b3655c296"
   },
   "source": [
    "using knee method to find eps"
   ]
  },
  {
   "cell_type": "code",
   "execution_count": 42,
   "id": "78c4ac10-2b2e-489d-9659-1cbb50c1eff7",
   "metadata": {
    "id": "78c4ac10-2b2e-489d-9659-1cbb50c1eff7",
    "outputId": "26d52c4a-6a7b-41cc-9eaa-3e2a3586c7bb"
   },
   "outputs": [
    {
     "data": {
      "text/plain": [
       "[<matplotlib.lines.Line2D at 0x1eecd6e1a90>]"
      ]
     },
     "execution_count": 42,
     "metadata": {},
     "output_type": "execute_result"
    },
    {
     "data": {
      "image/png": "[encoded data removed]",
      "text/plain": [
       "<Figure size 640x480 with 1 Axes>"
      ]
     },
     "metadata": {},
     "output_type": "display_data"
    }
   ],
   "source": [
    "import numpy as np\n",
    "from sklearn.neighbors import NearestNeighbors\n",
    "from matplotlib import pyplot as plt\n",
    "neigh = NearestNeighbors(n_neighbors=5)\n",
    "nbrs = neigh.fit(df_cleaned)\n",
    "distances, indices = nbrs.kneighbors(df_cleaned)\n",
    "distances = np.sort(distances, axis=0)\n",
    "distances = distances[:,1]\n",
    "plt.plot(distances)"
   ]
  },
  {
   "cell_type": "code",
   "execution_count": null,
   "id": "042e51d4-6d7c-40d6-acd5-c744cc62680e",
   "metadata": {
    "id": "042e51d4-6d7c-40d6-acd5-c744cc62680e",
    "outputId": "7e67abae-2559-4f16-b428-19e13637ce73"
   },
   "outputs": [
    {
     "name": "stdout",
     "output_type": "stream",
     "text": [
      "Number of clusters: 41\n",
      "Outliers: 228\n"
     ]
    },
    {
     "data": {
      "image/png": "[encoded data removed]",
      "text/plain": [
       "<Figure size 640x480 with 1 Axes>"
      ]
     },
     "metadata": {},
     "output_type": "display_data"
    }
   ],
   "source": [
    "from sklearn.decomposition import PCA\n",
    "from sklearn.cluster import DBSCAN\n",
    "import matplotlib.pyplot as plt\n",
    "import numpy as np\n",
    "\n",
    "# Fit DBSCAN model using all features in df_cleaned\n",
    "dbscan = DBSCAN(eps=4.5, min_samples=5)\n",
    "y_pred = dbscan.fit_predict(df_cleaned)\n",
    "\n",
    "# Print number of clusters and outliers\n",
    "num_clusters = len(set(y_pred) - {-1})  # Excluding -1 (outliers)\n",
    "num_outliers = np.sum(y_pred == -1)\n",
    "\n",
    "print(f'Number of clusters: {num_clusters}')\n",
    "print(f'Outliers: {num_outliers}')\n",
    "\n",
    "# Reduce the dimensions to 2D for visualization using PCA\n",
    "pca = PCA(n_components=2)\n",
    "df_pca = pca.fit_transform(df_cleaned)\n",
    "\n",
    "#Scatter plot\n",
    "plt.scatter(df_pca[:, 0], df_pca[:, 1], c=y_pred, cmap='rainbow', label='Clusters')\n",
    "plt.scatter(df_pca[y_pred == -1, 0], df_pca[y_pred == -1, 1], color='red', s=100, label='Outliers', edgecolors='black')\n",
    "plt.title(\"DBSCAN Clustering (Outliers in Red)\")\n",
    "plt.legend()\n",
    "plt.show()\n"
   ]
  },
  {
   "cell_type": "code",
   "execution_count": null,
   "id": "1a5e528c-322d-4408-aa1c-521fc88af531",
   "metadata": {
    "id": "1a5e528c-322d-4408-aa1c-521fc88af531",
    "outputId": "ced265e9-8558-40b7-f001-ea6f4e6a386d"
   },
   "outputs": [
    {
     "name": "stdout",
     "output_type": "stream",
     "text": [
      "Silhouette Score: 0.5490053096915954\n"
     ]
    }
   ],
   "source": [
    "#silhouette_score\n",
    "score = silhouette_score(df_cleaned, dbscan.labels_)\n",
    "print(f\"Silhouette Score: {score}\")"
   ]
  },
  {
   "cell_type": "markdown",
   "id": "0692d0a3-7ed7-44b3-8cc2-2c7226ce1812",
   "metadata": {
    "id": "0692d0a3-7ed7-44b3-8cc2-2c7226ce1812"
   },
   "source": [
    "# 2. Isolation Forest-model"
   ]
  },
  {
   "cell_type": "code",
   "execution_count": null,
   "id": "43e5210d-37ce-4b6e-90a1-4beca8b10e19",
   "metadata": {
    "id": "43e5210d-37ce-4b6e-90a1-4beca8b10e19"
   },
   "outputs": [],
   "source": [
    "from sklearn.ensemble import IsolationForest\n"
   ]
  },
  {
   "cell_type": "code",
   "execution_count": null,
   "id": "8ecb30e0-45ae-4aa6-8461-992af1a85d97",
   "metadata": {
    "id": "8ecb30e0-45ae-4aa6-8461-992af1a85d97"
   },
   "outputs": [],
   "source": [
    "# Create and fit the model\n",
    "iso_forest = IsolationForest(contamination=0.1, random_state=42)  # contamination is the expected fraction of outliers\n",
    "df_cleaned['anomaly'] = iso_forest.fit_predict(df_cleaned)\n",
    "\n",
    "# The output labels: 1 means normal, -1 means an anomaly (outlier)\n"
   ]
  },
  {
   "cell_type": "code",
   "execution_count": null,
   "id": "741b74cd-a875-4c87-b777-c89d85ed2d94",
   "metadata": {
    "id": "741b74cd-a875-4c87-b777-c89d85ed2d94",
    "outputId": "882f10f1-e652-4ca0-cc48-d07e07597f1e"
   },
   "outputs": [
    {
     "name": "stdout",
     "output_type": "stream",
     "text": [
      "          3wh    vpn    tor  encrypted  size  timeout  source_ip_1.0.254.69  \\\n",
      "131      True  False  False       True    45    False                 False   \n",
      "134      True  False  False      False     0    False                 False   \n",
      "250      True  False  False       True    45    False                 False   \n",
      "634      True  False  False      False     0    False                 False   \n",
      "754      True  False  False      False   137    False                 False   \n",
      "...       ...    ...    ...        ...   ...      ...                   ...   \n",
      "159476  False  False  False      False   103    False                 False   \n",
      "159477   True  False  False      False     0    False                 False   \n",
      "159542   True  False  False       True    41    False                 False   \n",
      "159544   True  False  False      False     0    False                 False   \n",
      "159545   True  False  False      False    51    False                 False   \n",
      "\n",
      "        source_ip_1.1.227.13  source_ip_1.1.229.82  source_ip_1.1.241.171  \\\n",
      "131                    False                 False                  False   \n",
      "134                    False                 False                  False   \n",
      "250                    False                 False                  False   \n",
      "634                    False                 False                  False   \n",
      "754                    False                 False                  False   \n",
      "...                      ...                   ...                    ...   \n",
      "159476                 False                 False                  False   \n",
      "159477                 False                 False                  False   \n",
      "159542                 False                 False                  False   \n",
      "159544                 False                 False                  False   \n",
      "159545                 False                 False                  False   \n",
      "\n",
      "        ...  asn_AS9905  asn_AS9919  asn_AS9924  asn_AS9929  asn_AS9930  \\\n",
      "131     ...       False       False       False       False       False   \n",
      "134     ...       False       False       False       False       False   \n",
      "250     ...       False       False       False       False       False   \n",
      "634     ...       False       False       False       False       False   \n",
      "754     ...       False       False       False       False       False   \n",
      "...     ...         ...         ...         ...         ...         ...   \n",
      "159476  ...       False       False       False       False       False   \n",
      "159477  ...       False       False       False       False       False   \n",
      "159542  ...       False       False       False       False       False   \n",
      "159544  ...       False       False       False       False       False   \n",
      "159545  ...       False       False       False       False       False   \n",
      "\n",
      "        asn_AS9931  asn_AS9939  asn_AS9943  size  anomaly  \n",
      "131          False       False       False    45       -1  \n",
      "134          False       False       False     0       -1  \n",
      "250          False       False       False    45       -1  \n",
      "634          False       False       False     0       -1  \n",
      "754          False       False       False   137       -1  \n",
      "...            ...         ...         ...   ...      ...  \n",
      "159476       False       False       False   103       -1  \n",
      "159477       False       False       False     0       -1  \n",
      "159542       False       False       False    41       -1  \n",
      "159544       False       False       False     0       -1  \n",
      "159545       False       False       False    51       -1  \n",
      "\n",
      "[1931 rows x 8180 columns]\n"
     ]
    }
   ],
   "source": [
    "# Identify outliers (labeled as -1 in Isolation Forest)\n",
    "outliers_if = df_cleaned[df_cleaned['anomaly'] == -1]\n",
    "\n",
    "# Print outlier data points (attributes)\n",
    "print(outliers_if)\n",
    "\n"
   ]
  },
  {
   "cell_type": "code",
   "execution_count": null,
   "id": "fe9131be-b071-47d0-a055-af861dd2f3a3",
   "metadata": {
    "id": "fe9131be-b071-47d0-a055-af861dd2f3a3",
    "outputId": "3c683bb0-5b97-4b61-e384-775e6f5351e7"
   },
   "outputs": [
    {
     "name": "stdout",
     "output_type": "stream",
     "text": [
      "anomaly\n",
      " 1    17379\n",
      "-1     1931\n",
      "Name: count, dtype: int64\n"
     ]
    }
   ],
   "source": [
    "anomaly_counts = df_cleaned['anomaly'].value_counts()\n",
    "print(anomaly_counts)"
   ]
  },
  {
   "cell_type": "code",
   "execution_count": null,
   "id": "ca0490b6-5dd3-472f-8c61-94af0d103312",
   "metadata": {
    "id": "ca0490b6-5dd3-472f-8c61-94af0d103312",
    "outputId": "51f71eb7-6211-4b59-9192-d3f2a0024fc5"
   },
   "outputs": [
    {
     "name": "stdout",
     "output_type": "stream",
     "text": [
      "Anomalies: 1931 / 19310\n"
     ]
    }
   ],
   "source": [
    "print(f\"Anomalies: {sum(df_cleaned['anomaly'] == -1)} / {len(df_cleaned)}\")"
   ]
  },
  {
   "cell_type": "code",
   "execution_count": null,
   "id": "eb05aa15-5491-4784-bf47-84d2d1e94da1",
   "metadata": {
    "id": "eb05aa15-5491-4784-bf47-84d2d1e94da1",
    "outputId": "dd5afcfe-ba89-4ce1-96af-fea44e8c76b1"
   },
   "outputs": [
    {
     "name": "stderr",
     "output_type": "stream",
     "text": [
      "D:\\anaconda\\Lib\\site-packages\\sklearn\\model_selection\\_search.py:1102: UserWarning: One or more of the test scores are non-finite: [nan nan nan nan nan nan nan nan nan nan nan nan nan nan nan nan nan nan\n",
      " nan nan nan nan nan nan nan nan nan]\n",
      "  warnings.warn(\n"
     ]
    },
    {
     "name": "stdout",
     "output_type": "stream",
     "text": [
      "Best Parameters: {'contamination': 0.05, 'max_features': 0.5, 'n_estimators': 100}\n"
     ]
    }
   ],
   "source": [
    "from sklearn.model_selection import GridSearchCV\n",
    "from sklearn.ensemble import IsolationForest\n",
    "from sklearn.metrics import make_scorer\n",
    "import numpy as np\n",
    "\n",
    "# Define parameter grid\n",
    "param_grid = {\n",
    "    'n_estimators': [100, 200, 300],\n",
    "    'max_features': [0.5, 0.75, 1.0],\n",
    "    'contamination': [0.05, 0.1, 0.2]  # Percentage of anomalies expected\n",
    "}\n",
    "\n",
    "# Initialize Isolation Forest\n",
    "iso_forest = IsolationForest(random_state=42)\n",
    "\n",
    "# Define a custom scoring function (higher is better)\n",
    "def anomaly_score(estimator, X):\n",
    "    scores = estimator.decision_function(X)  # Anomaly scores\n",
    "    return np.mean(scores)  # Higher means better normal separation\n",
    "\n",
    "scorer = make_scorer(anomaly_score, greater_is_better=True)\n",
    "\n",
    "# Perform Grid Search\n",
    "grid_search = GridSearchCV(iso_forest, param_grid, scoring=scorer, cv=3, n_jobs=-1)\n",
    "\n",
    "# Fit the model\n",
    "grid_search.fit(df_cleaned)\n",
    "\n",
    "# Get best parameters\n",
    "best_params = grid_search.best_params_\n",
    "print(f\"Best Parameters: {best_params}\")\n"
   ]
  },
  {
   "cell_type": "code",
   "execution_count": null,
   "id": "fd9c23b8-ed57-4ac4-90a2-e0a958d84973",
   "metadata": {
    "id": "fd9c23b8-ed57-4ac4-90a2-e0a958d84973",
    "outputId": "78ec8836-d337-486b-cd47-3233fb0a36dd"
   },
   "outputs": [
    {
     "name": "stdout",
     "output_type": "stream",
     "text": [
      "          3wh    vpn    tor  encrypted  size  timeout  source_ip_1.0.254.69  \\\n",
      "0        True  False  False      False    43    False                 False   \n",
      "42       True  False  False      False   137    False                 False   \n",
      "134      True  False  False      False     0    False                 False   \n",
      "156      True  False  False      False     0    False                 False   \n",
      "530     False  False  False      False   249    False                 False   \n",
      "...       ...    ...    ...        ...   ...      ...                   ...   \n",
      "157687   True  False  False      False   126    False                 False   \n",
      "157763   True  False  False      False   193    False                 False   \n",
      "158464   True  False  False      False    84    False                 False   \n",
      "158669   True  False  False      False     0    False                 False   \n",
      "159131   True  False  False      False     0    False                 False   \n",
      "\n",
      "        source_ip_1.1.227.13  source_ip_1.1.229.82  source_ip_1.1.241.171  \\\n",
      "0                      False                 False                  False   \n",
      "42                     False                 False                  False   \n",
      "134                    False                 False                  False   \n",
      "156                    False                 False                  False   \n",
      "530                    False                 False                  False   \n",
      "...                      ...                   ...                    ...   \n",
      "157687                 False                 False                  False   \n",
      "157763                 False                 False                  False   \n",
      "158464                 False                 False                  False   \n",
      "158669                 False                 False                  False   \n",
      "159131                 False                 False                  False   \n",
      "\n",
      "        ...  asn_AS9905  asn_AS9919  asn_AS9924  asn_AS9929  asn_AS9930  \\\n",
      "0       ...       False       False       False       False       False   \n",
      "42      ...       False       False       False       False       False   \n",
      "134     ...       False       False       False       False       False   \n",
      "156     ...       False       False       False       False       False   \n",
      "530     ...       False       False       False       False       False   \n",
      "...     ...         ...         ...         ...         ...         ...   \n",
      "157687  ...       False       False       False       False       False   \n",
      "157763  ...       False       False       False       False       False   \n",
      "158464  ...       False       False       False       False       False   \n",
      "158669  ...       False       False       False       False       False   \n",
      "159131  ...       False       False       False       False       False   \n",
      "\n",
      "        asn_AS9931  asn_AS9939  asn_AS9943  size  anomaly  \n",
      "0            False       False       False    43       -1  \n",
      "42           False       False       False   137       -1  \n",
      "134          False       False       False     0       -1  \n",
      "156          False       False       False     0       -1  \n",
      "530          False       False       False   249       -1  \n",
      "...            ...         ...         ...   ...      ...  \n",
      "157687       False       False       False   126       -1  \n",
      "157763       False       False       False   193       -1  \n",
      "158464       False       False       False    84       -1  \n",
      "158669       False       False       False     0       -1  \n",
      "159131       False       False       False     0       -1  \n",
      "\n",
      "[964 rows x 8180 columns]\n",
      "anomaly\n",
      " 1    18346\n",
      "-1      964\n",
      "Name: count, dtype: int64\n",
      "Anomalies: 964 / 19310\n",
      "Silhouette Score: 0.14915304632910834\n"
     ]
    },
    {
     "data": {
      "image/png": "[encoded data removed]",
      "text/plain": [
       "<Figure size 640x480 with 1 Axes>"
      ]
     },
     "metadata": {},
     "output_type": "display_data"
    }
   ],
   "source": [
    "\n",
    "from sklearn.metrics import silhouette_score\n",
    "from sklearn.decomposition import PCA\n",
    "\n",
    "# Fit Isolation Forest\n",
    "iso_forest = IsolationForest(contamination=0.05, random_state=42, max_features=0.5, max_samples='auto', n_estimators=100)\n",
    "df_cleaned['anomaly'] = iso_forest.fit_predict(df_cleaned)\n",
    "\n",
    "# Identify outliers (labeled as -1 in Isolation Forest)\n",
    "outliers_if = df_cleaned[df_cleaned['anomaly'] == -1]\n",
    "\n",
    "# Print outlier data points (attributes)\n",
    "print(outliers_if)\n",
    "\n",
    "# Print anomaly counts\n",
    "anomaly_counts = df_cleaned['anomaly'].value_counts()\n",
    "print(anomaly_counts)\n",
    "\n",
    "# Print anomaly ratio\n",
    "print(f\"Anomalies: {sum(df_cleaned['anomaly'] == -1)} / {len(df_cleaned)}\")\n",
    "\n",
    "# Convert anomaly labels (1 for normal, 0 for anomalies) for silhouette scoring\n",
    "labels = [0 if label == -1 else 1 for label in df_cleaned['anomaly']]\n",
    "\n",
    "# Compute the Silhouette Coefficient\n",
    "score = silhouette_score(df_cleaned.drop(columns=['anomaly']), labels)  # Dropping 'anomaly' column for features\n",
    "print(f\"Silhouette Score: {score}\")\n",
    "\n",
    "# Visualize the clusters in 2D using PCA\n",
    "pca = PCA(n_components=2)\n",
    "X_reduced = pca.fit_transform(df_cleaned.drop(columns=['anomaly']))\n",
    "\n",
    "# Scatter plot of 2D representation of the data points\n",
    "plt.scatter(X_reduced[:, 0], X_reduced[:, 1], c=labels, cmap='coolwarm')\n",
    "plt.title(\"Isolation Forest Anomaly Detection - 2D Visualization\")\n",
    "plt.xlabel('PCA Component 1')\n",
    "plt.ylabel('PCA Component 2')\n",
    "plt.show()\n"
   ]
  },
  {
   "cell_type": "markdown",
   "id": "4371b57b-375c-4105-ad54-7f5d36081791",
   "metadata": {
    "id": "4371b57b-375c-4105-ad54-7f5d36081791"
   },
   "source": [
    "# one class svm"
   ]
  },
  {
   "cell_type": "code",
   "execution_count": null,
   "id": "8d31ef69-57da-4f78-8661-ae9c7c7c0fb6",
   "metadata": {
    "id": "8d31ef69-57da-4f78-8661-ae9c7c7c0fb6",
    "outputId": "6090ffc0-661a-4674-eace-23ffbff06ad9"
   },
   "outputs": [
    {
     "data": {
      "image/png": "[encoded data removed]",
      "text/plain": [
       "<Figure size 640x480 with 1 Axes>"
      ]
     },
     "metadata": {},
     "output_type": "display_data"
    }
   ],
   "source": [
    "import numpy as np\n",
    "import pandas as pd\n",
    "import matplotlib.pyplot as plt\n",
    "from sklearn.svm import OneClassSVM\n",
    "\n",
    "# Train One-Class SVM\n",
    "oc_svm = OneClassSVM(kernel='rbf', nu=0.05, gamma='scale')\n",
    "y_pred = oc_svm.fit_predict(df_cleaned)  # Predictions (-1 = anomaly, 1 = normal)\n",
    "\n",
    "\n",
    "# Reduce the dimensions to 2D for visualization using PCA\n",
    "pca = PCA(n_components=2)\n",
    "df_pca = pca.fit_transform(df_cleaned)\n",
    "\n",
    "# Visualize results\n",
    "#scatter Plot\n",
    "plt.scatter(df_pca[:, 0], df_pca[:, 1], c=y_pred, cmap='rainbow', label='Clusters')\n",
    "plt.scatter(df_pca[y_pred == -1, 0], df_pca[y_pred == -1, 1], color='red', s=100, label='Outliers', edgecolors='black')\n",
    "plt.title(\"One-Class SVM Anomaly Detection\")\n",
    "plt.legend()\n",
    "plt.show()\n",
    "\n"
   ]
  },
  {
   "cell_type": "code",
   "execution_count": null,
   "id": "545d0953-1497-469c-9058-9483cd0d9437",
   "metadata": {
    "id": "545d0953-1497-469c-9058-9483cd0d9437",
    "outputId": "6028cf7d-5a6a-45c4-a9be-8b709742da9a"
   },
   "outputs": [
    {
     "name": "stdout",
     "output_type": "stream",
     "text": [
      "Silhouette Score: 0.6058\n"
     ]
    }
   ],
   "source": [
    "from sklearn.metrics import silhouette_score\n",
    "\n",
    "# Compute Silhouette Score (only for clustered data)\n",
    "silhouette = silhouette_score(df_cleaned, y_pred)\n",
    "print(f\"Silhouette Score: {silhouette:.4f}\")\n"
   ]
  }
 ],
 "metadata": {
  "accelerator": "GPU",
  "colab": {
   "gpuType": "T4",
   "provenance": []
  },
  "kernelspec": {
   "display_name": "Python 3 (ipykernel)",
   "language": "python",
   "name": "python3"
  },
  "language_info": {
   "codemirror_mode": {
    "name": "ipython",
    "version": 3
   },
   "file_extension": ".py",
   "mimetype": "text/x-python",
   "name": "python",
   "nbconvert_exporter": "python",
   "pygments_lexer": "ipython3",
   "version": "3.9.13"
  }
 },
 "nbformat": 4,
 "nbformat_minor": 5
}
